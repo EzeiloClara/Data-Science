{
 "cells": [
  {
   "cell_type": "code",
   "execution_count": 156,
   "metadata": {},
   "outputs": [],
   "source": [
    "import numpy as np\n",
    "import pandas as pd \n",
    "import matplotlib.pyplot as plt\n",
    "import seaborn as sns\n",
    "import plotly.express as px\n",
    "from sklearn.model_selection import train_test_split\n",
    "from sklearn.preprocessing import LabelEncoder\n",
    "from sklearn.linear_model import LinearRegression\n",
    "from sklearn.tree import DecisionTreeClassifier\n",
    "from sklearn.ensemble import RandomForestClassifier\n",
    "from sklearn.metrics import confusion_matrix,classification_report\n",
    "from sklearn.linear_model import LogisticRegression\n",
    "from sklearn.metrics import r2_score, mean_absolute_error, mean_squared_error\n",
    "from sklearn.neighbors import KNeighborsClassifier"
   ]
  },
  {
   "cell_type": "code",
   "execution_count": 157,
   "metadata": {},
   "outputs": [
    {
     "data": {
      "text/html": [
       "<div>\n",
       "<style scoped>\n",
       "    .dataframe tbody tr th:only-of-type {\n",
       "        vertical-align: middle;\n",
       "    }\n",
       "\n",
       "    .dataframe tbody tr th {\n",
       "        vertical-align: top;\n",
       "    }\n",
       "\n",
       "    .dataframe thead th {\n",
       "        text-align: right;\n",
       "    }\n",
       "</style>\n",
       "<table border=\"1\" class=\"dataframe\">\n",
       "  <thead>\n",
       "    <tr style=\"text-align: right;\">\n",
       "      <th></th>\n",
       "      <th>age</th>\n",
       "      <th>sex</th>\n",
       "      <th>bmi</th>\n",
       "      <th>children</th>\n",
       "      <th>smoker</th>\n",
       "      <th>region</th>\n",
       "      <th>charges</th>\n",
       "    </tr>\n",
       "  </thead>\n",
       "  <tbody>\n",
       "    <tr>\n",
       "      <th>0</th>\n",
       "      <td>19</td>\n",
       "      <td>female</td>\n",
       "      <td>27.900</td>\n",
       "      <td>0</td>\n",
       "      <td>yes</td>\n",
       "      <td>southwest</td>\n",
       "      <td>16884.92400</td>\n",
       "    </tr>\n",
       "    <tr>\n",
       "      <th>1</th>\n",
       "      <td>18</td>\n",
       "      <td>male</td>\n",
       "      <td>33.770</td>\n",
       "      <td>1</td>\n",
       "      <td>no</td>\n",
       "      <td>southeast</td>\n",
       "      <td>1725.55230</td>\n",
       "    </tr>\n",
       "    <tr>\n",
       "      <th>2</th>\n",
       "      <td>28</td>\n",
       "      <td>male</td>\n",
       "      <td>33.000</td>\n",
       "      <td>3</td>\n",
       "      <td>no</td>\n",
       "      <td>southeast</td>\n",
       "      <td>4449.46200</td>\n",
       "    </tr>\n",
       "    <tr>\n",
       "      <th>3</th>\n",
       "      <td>33</td>\n",
       "      <td>male</td>\n",
       "      <td>22.705</td>\n",
       "      <td>0</td>\n",
       "      <td>no</td>\n",
       "      <td>northwest</td>\n",
       "      <td>21984.47061</td>\n",
       "    </tr>\n",
       "    <tr>\n",
       "      <th>4</th>\n",
       "      <td>32</td>\n",
       "      <td>male</td>\n",
       "      <td>28.880</td>\n",
       "      <td>0</td>\n",
       "      <td>no</td>\n",
       "      <td>northwest</td>\n",
       "      <td>3866.85520</td>\n",
       "    </tr>\n",
       "  </tbody>\n",
       "</table>\n",
       "</div>"
      ],
      "text/plain": [
       "   age     sex     bmi  children smoker     region      charges\n",
       "0   19  female  27.900         0    yes  southwest  16884.92400\n",
       "1   18    male  33.770         1     no  southeast   1725.55230\n",
       "2   28    male  33.000         3     no  southeast   4449.46200\n",
       "3   33    male  22.705         0     no  northwest  21984.47061\n",
       "4   32    male  28.880         0     no  northwest   3866.85520"
      ]
     },
     "execution_count": 157,
     "metadata": {},
     "output_type": "execute_result"
    }
   ],
   "source": [
    "df = pd.read_csv('insurance.csv')\n",
    "df.head()"
   ]
  },
  {
   "cell_type": "code",
   "execution_count": 158,
   "metadata": {},
   "outputs": [
    {
     "data": {
      "text/plain": [
       "age         0\n",
       "sex         0\n",
       "bmi         0\n",
       "children    0\n",
       "smoker      0\n",
       "region      0\n",
       "charges     0\n",
       "dtype: int64"
      ]
     },
     "execution_count": 158,
     "metadata": {},
     "output_type": "execute_result"
    }
   ],
   "source": [
    "df.isnull().sum()"
   ]
  },
  {
   "cell_type": "code",
   "execution_count": 159,
   "metadata": {},
   "outputs": [
    {
     "data": {
      "text/plain": [
       "(1338, 7)"
      ]
     },
     "execution_count": 159,
     "metadata": {},
     "output_type": "execute_result"
    }
   ],
   "source": [
    "df.shape"
   ]
  },
  {
   "cell_type": "markdown",
   "metadata": {},
   "source": [
    "# 1. Find the Average Score for Age"
   ]
  },
  {
   "cell_type": "code",
   "execution_count": 160,
   "metadata": {},
   "outputs": [
    {
     "data": {
      "text/plain": [
       "<matplotlib.axes._subplots.AxesSubplot at 0x257e8245040>"
      ]
     },
     "execution_count": 160,
     "metadata": {},
     "output_type": "execute_result"
    },
    {
     "data": {
      "image/png": "[encoded data removed]",
      "text/plain": [
       "<Figure size 432x288 with 1 Axes>"
      ]
     },
     "metadata": {
      "needs_background": "light"
     },
     "output_type": "display_data"
    }
   ],
   "source": [
    "sns.barplot(y=df['age'], estimator = np.mean)"
   ]
  },
  {
   "cell_type": "markdown",
   "metadata": {},
   "source": [
    "# 2. Find the Average Score for BMI"
   ]
  },
  {
   "cell_type": "code",
   "execution_count": 161,
   "metadata": {},
   "outputs": [
    {
     "data": {
      "text/plain": [
       "<matplotlib.axes._subplots.AxesSubplot at 0x257e829c5b0>"
      ]
     },
     "execution_count": 161,
     "metadata": {},
     "output_type": "execute_result"
    },
    {
     "data": {
      "image/png": "[encoded data removed]",
      "text/plain": [
       "<Figure size 432x288 with 1 Axes>"
      ]
     },
     "metadata": {
      "needs_background": "light"
     },
     "output_type": "display_data"
    }
   ],
   "source": [
    "sns.barplot(y=df['bmi'], estimator=np.mean)"
   ]
  },
  {
   "cell_type": "markdown",
   "metadata": {},
   "source": [
    "# 3. Find the Max number of children"
   ]
  },
  {
   "cell_type": "code",
   "execution_count": 162,
   "metadata": {},
   "outputs": [
    {
     "data": {
      "text/plain": [
       "<matplotlib.axes._subplots.AxesSubplot at 0x257e82e8070>"
      ]
     },
     "execution_count": 162,
     "metadata": {},
     "output_type": "execute_result"
    },
    {
     "data": {
      "image/png": "[encoded data removed]",
      "text/plain": [
       "<Figure size 432x288 with 1 Axes>"
      ]
     },
     "metadata": {
      "needs_background": "light"
     },
     "output_type": "display_data"
    }
   ],
   "source": [
    "sns.barplot(y=df['children'], estimator=max)"
   ]
  },
  {
   "cell_type": "markdown",
   "metadata": {},
   "source": [
    "# 4. Find the Average Score for charges"
   ]
  },
  {
   "cell_type": "code",
   "execution_count": 199,
   "metadata": {},
   "outputs": [
    {
     "data": {
      "text/plain": [
       "<matplotlib.axes._subplots.AxesSubplot at 0x257e94bbb50>"
      ]
     },
     "execution_count": 199,
     "metadata": {},
     "output_type": "execute_result"
    },
    {
     "data": {
      "image/png": "[encoded data removed]",
      "text/plain": [
       "<Figure size 432x288 with 1 Axes>"
      ]
     },
     "metadata": {
      "needs_background": "light"
     },
     "output_type": "display_data"
    }
   ],
   "source": [
    "sns.barplot(y=df['charges'], estimator=np.mean)"
   ]
  },
  {
   "cell_type": "markdown",
   "metadata": {},
   "source": [
    "# 5. Determine if outliers are present in charges"
   ]
  },
  {
   "cell_type": "code",
   "execution_count": 200,
   "metadata": {},
   "outputs": [
    {
     "data": {
      "application/vnd.plotly.v1+json": {
       "config": {
        "plotlyServerURL": "https://plot.ly"
       },
       "data": [
        {
         "alignmentgroup": "True",
         "hovertemplate": "charges=%{y}<extra></extra>",
         "legendgroup": "",
         "marker": {
          "color": "#636efa"
         },
         "name": "",
         "notched": false,
         "offsetgroup": "",
         "orientation": "v",
         "showlegend": false,
         "type": "box",
         "x0": " ",
         "xaxis": "x",
         "y": [
          16884,
          1725,
          4449,
          21984,
          3866,
          3756,
          8240,
          7281,
          6406,
          28923,
          2721,
          27808,
          1826,
          11090,
          39611,
          1837,
          10797,
          2395,
          10602,
          36837,
          13228,
          4149,
          1137,
          37701,
          6203,
          14001,
          14451,
          12268,
          2775,
          38711,
          35585,
          2198,
          4687,
          13770,
          51194,
          1625,
          15612,
          2302,
          39774,
          48173,
          3046,
          4949,
          6272,
          6313,
          6079,
          20630,
          3393,
          3556,
          12629,
          38709,
          2211,
          3579,
          23568,
          37742,
          8059,
          47496,
          13607,
          34303,
          23244,
          5989,
          8606,
          4504,
          30166,
          4133,
          14711,
          1743,
          14235,
          6389,
          5920,
          17663,
          16577,
          6799,
          11741,
          11946,
          7726,
          11356,
          3947,
          1532,
          2755,
          6571,
          4441,
          7935,
          37165,
          11033,
          39836,
          21098,
          43578,
          11073,
          8026,
          11082,
          2026,
          10942,
          30184,
          5729,
          47291,
          3766,
          12105,
          10226,
          22412,
          15820,
          6186,
          3645,
          21344,
          30942,
          5003,
          17560,
          2331,
          3877,
          2867,
          47055,
          10825,
          11881,
          4646,
          2404,
          11488,
          30259,
          11381,
          19107,
          8601,
          6686,
          7740,
          1705,
          2257,
          39556,
          10115,
          3385,
          17081,
          9634,
          32734,
          6082,
          12815,
          13616,
          11163,
          1632,
          2457,
          2155,
          1261,
          2045,
          27322,
          2166,
          27375,
          3490,
          18972,
          18157,
          20745,
          5138,
          40720,
          9877,
          10959,
          1842,
          5125,
          7789,
          6334,
          19964,
          7077,
          6948,
          21223,
          15518,
          36950,
          19749,
          21348,
          36149,
          10450,
          5152,
          5028,
          10407,
          4830,
          6128,
          2719,
          4827,
          13405,
          8116,
          1694,
          5246,
          2855,
          48824,
          6455,
          10436,
          8823,
          8538,
          11735,
          1631,
          4005,
          7419,
          7731,
          43753,
          3981,
          5325,
          6775,
          4922,
          12557,
          4883,
          2137,
          12044,
          1137,
          1639,
          5649,
          8516,
          9644,
          14901,
          2130,
          8871,
          13012,
          37133,
          7147,
          4337,
          11743,
          20984,
          13880,
          6610,
          1980,
          8162,
          3537,
          5002,
          8520,
          7371,
          10355,
          2483,
          3392,
          25081,
          5012,
          10564,
          5253,
          34779,
          19515,
          11987,
          2689,
          24227,
          7358,
          9225,
          7443,
          14001,
          1727,
          12333,
          6710,
          19444,
          1615,
          4463,
          17352,
          7152,
          38511,
          5354,
          35160,
          7196,
          29523,
          24476,
          12648,
          1986,
          1832,
          4040,
          12829,
          47305,
          44260,
          4260,
          41097,
          13047,
          43921,
          5400,
          11520,
          33750,
          11837,
          17085,
          24869,
          36219,
          20462,
          46151,
          17179,
          14590,
          7441,
          9282,
          1719,
          42856,
          7265,
          9617,
          2523,
          9715,
          2803,
          2150,
          12928,
          9855,
          22331,
          48549,
          4237,
          11879,
          9625,
          7742,
          9432,
          14256,
          47896,
          25992,
          3172,
          20277,
          42112,
          2156,
          3906,
          1704,
          16297,
          21978,
          38746,
          9249,
          6746,
          24873,
          12265,
          4349,
          12646,
          19442,
          20177,
          4151,
          11944,
          7749,
          8444,
          1737,
          42124,
          8124,
          34838,
          9722,
          8835,
          10435,
          7421,
          4667,
          4894,
          24671,
          35491,
          11566,
          2866,
          6600,
          3561,
          42760,
          47928,
          9144,
          48517,
          24393,
          13429,
          11658,
          19144,
          13822,
          12142,
          13937,
          41919,
          8232,
          18955,
          13352,
          13217,
          13981,
          10977,
          6184,
          4889,
          8334,
          5478,
          1635,
          11830,
          8932,
          3554,
          12404,
          14133,
          24603,
          8944,
          9620,
          1837,
          1607,
          10043,
          4751,
          13844,
          2597,
          3180,
          9778,
          13430,
          8017,
          8116,
          3481,
          13415,
          12029,
          7639,
          36085,
          1391,
          18033,
          21659,
          38126,
          16455,
          27000,
          15006,
          42303,
          20781,
          5846,
          8302,
          1261,
          11856,
          30284,
          3176,
          4618,
          10736,
          2138,
          8964,
          9290,
          9411,
          7526,
          8522,
          16586,
          14988,
          1631,
          9264,
          8083,
          14692,
          10269,
          3260,
          11396,
          4185,
          8539,
          6652,
          4074,
          1621,
          19594,
          14455,
          5080,
          2134,
          7345,
          9140,
          18608,
          14418,
          28950,
          46889,
          46599,
          39125,
          2727,
          8968,
          9788,
          6555,
          7323,
          3167,
          18804,
          23082,
          4906,
          5969,
          12638,
          4243,
          13919,
          2254,
          5926,
          12592,
          2897,
          4738,
          37079,
          1149,
          28287,
          26109,
          7345,
          12730,
          11454,
          5910,
          4762,
          7512,
          4032,
          1969,
          1769,
          4686,
          21797,
          11881,
          11840,
          10601,
          7682,
          10381,
          22144,
          15230,
          11165,
          1632,
          19521,
          13224,
          12643,
          23288,
          2201,
          2497,
          2203,
          1744,
          20878,
          25382,
          28868,
          35147,
          2534,
          1534,
          1824,
          15555,
          9304,
          1622,
          9880,
          9563,
          4347,
          12475,
          1253,
          48885,
          10461,
          1748,
          24513,
          2196,
          12574,
          17942,
          1967,
          4931,
          8027,
          8211,
          13470,
          36197,
          6837,
          22218,
          32548,
          5974,
          6796,
          2643,
          3077,
          3044,
          11455,
          11763,
          2498,
          9361,
          1256,
          21082,
          11362,
          27724,
          8413,
          5240,
          3857,
          25656,
          3994,
          9866,
          5397,
          38245,
          11482,
          24059,
          9861,
          8342,
          1708,
          48675,
          14043,
          12925,
          19214,
          13831,
          6067,
          5972,
          8825,
          8233,
          27346,
          6196,
          3056,
          13887,
          63770,
          10231,
          23807,
          3268,
          11538,
          3213,
          45863,
          13390,
          3972,
          12957,
          11187,
          17878,
          3847,
          8334,
          3935,
          39983,
          1646,
          9193,
          10923,
          2494,
          9058,
          2801,
          2128,
          6373,
          7256,
          11552,
          45702,
          3761,
          2219,
          4753,
          31620,
          13224,
          12222,
          1664,
          58571,
          9724,
          3206,
          12913,
          1639,
          6356,
          17626,
          1242,
          4779,
          3861,
          43943,
          13635,
          5976,
          11842,
          8428,
          2566,
          15359,
          5709,
          8823,
          7640,
          5594,
          7441,
          33471,
          1633,
          9174,
          11070,
          16085,
          17468,
          9283,
          3558,
          25678,
          4435,
          39241,
          8547,
          6571,
          2207,
          6753,
          1880,
          42969,
          11658,
          23306,
          34439,
          10713,
          3659,
          40182,
          9182,
          34617,
          12129,
          3736,
          6748,
          11326,
          11365,
          42983,
          10085,
          1977,
          3366,
          7173,
          9391,
          14410,
          2709,
          24915,
          20149,
          12949,
          6666,
          32787,
          13143,
          4466,
          18806,
          10141,
          6123,
          8252,
          1712,
          12430,
          9800,
          10579,
          8280,
          8527,
          12244,
          24667,
          3410,
          4058,
          26392,
          14394,
          6435,
          22192,
          5148,
          1136,
          27037,
          42560,
          8703,
          40003,
          45710,
          6500,
          4837,
          3943,
          4399,
          6185,
          46200,
          7222,
          12485,
          46130,
          12363,
          10156,
          2585,
          1242,
          40103,
          9863,
          4766,
          11244,
          7729,
          5438,
          26236,
          34806,
          2104,
          8068,
          2362,
          2352,
          3577,
          3201,
          29186,
          40273,
          10976,
          3500,
          2020,
          9541,
          9504,
          5385,
          8930,
          5375,
          44400,
          10264,
          6113,
          5469,
          1727,
          10107,
          8310,
          1984,
          2457,
          12146,
          9566,
          13112,
          10848,
          12231,
          9875,
          11264,
          12979,
          1263,
          10106,
          40932,
          6664,
          16657,
          2217,
          6781,
          19361,
          10065,
          4234,
          9447,
          14007,
          9583,
          40419,
          3484,
          36189,
          44585,
          8604,
          18246,
          43254,
          3757,
          8827,
          9910,
          11737,
          1627,
          8556,
          3062,
          19539,
          1906,
          14210,
          11833,
          17128,
          5031,
          7985,
          23065,
          5428,
          36307,
          3925,
          2416,
          19040,
          3070,
          9095,
          11842,
          8062,
          7050,
          14319,
          6933,
          27941,
          11150,
          12797,
          17748,
          7261,
          10560,
          6986,
          7448,
          5934,
          9869,
          18259,
          1146,
          9386,
          24520,
          4350,
          6414,
          12741,
          1917,
          5209,
          13457,
          5662,
          1252,
          2731,
          21195,
          7209,
          18310,
          4266,
          4719,
          11848,
          17904,
          7046,
          14313,
          2103,
          38792,
          1815,
          7731,
          28476,
          2136,
          1131,
          3309,
          9414,
          6360,
          11013,
          4428,
          5584,
          1877,
          2842,
          3597,
          23401,
          55135,
          7445,
          2680,
          1621,
          8219,
          12523,
          16069,
          43813,
          20773,
          39597,
          6117,
          13393,
          5266,
          4719,
          11743,
          5377,
          7160,
          4402,
          11657,
          6402,
          12622,
          1526,
          12323,
          36021,
          27533,
          10072,
          45008,
          9872,
          2438,
          2974,
          10601,
          37270,
          14119,
          42111,
          11729,
          24106,
          1875,
          40974,
          15817,
          18218,
          10965,
          46113,
          7151,
          12269,
          5458,
          8782,
          6600,
          1141,
          11576,
          13129,
          4391,
          8457,
          3392,
          5966,
          6849,
          8891,
          2690,
          26140,
          6653,
          6282,
          6311,
          3443,
          2789,
          2585,
          46255,
          4877,
          19719,
          27218,
          5272,
          1682,
          11945,
          29330,
          7243,
          10422,
          44202,
          13555,
          13063,
          19798,
          2221,
          1634,
          2117,
          8688,
          48673,
          4661,
          8125,
          12644,
          4564,
          4846,
          7633,
          15170,
          17496,
          2639,
          33732,
          14382,
          7626,
          5257,
          2473,
          21774,
          35069,
          13041,
          5245,
          13451,
          13462,
          5488,
          4320,
          6250,
          25333,
          2913,
          12032,
          13470,
          6289,
          2927,
          6238,
          10096,
          7348,
          4673,
          12233,
          32108,
          8965,
          2304,
          9487,
          1121,
          9549,
          2217,
          1628,
          12982,
          11674,
          7160,
          39047,
          6358,
          19933,
          11534,
          47462,
          4527,
          38998,
          20009,
          3875,
          41999,
          12609,
          41034,
          28468,
          2730,
          3353,
          14474,
          9500,
          26467,
          4746,
          23967,
          7518,
          3279,
          8596,
          10702,
          4992,
          2527,
          1759,
          2322,
          16138,
          7804,
          2902,
          9704,
          4889,
          25517,
          4500,
          19199,
          16796,
          4915,
          7624,
          8410,
          28340,
          4518,
          14571,
          3378,
          7144,
          10118,
          5484,
          16420,
          7986,
          7418,
          13887,
          6551,
          5267,
          17361,
          34472,
          1972,
          21232,
          8627,
          4433,
          4438,
          24915,
          23241,
          9957,
          8269,
          18767,
          36580,
          8765,
          5383,
          12124,
          2709,
          3987,
          12495,
          26018,
          8798,
          35595,
          42211,
          1711,
          8569,
          2020,
          16450,
          21595,
          9850,
          6877,
          21677,
          44423,
          4137,
          13747,
          12950,
          12094,
          37484,
          39725,
          2250,
          22493,
          20234,
          1704,
          33475,
          3161,
          11394,
          21880,
          7325,
          44501,
          3594,
          39727,
          8023,
          14394,
          9288,
          25309,
          3353,
          10594,
          8277,
          17929,
          2480,
          4462,
          1981,
          11554,
          48970,
          6548,
          5708,
          7045,
          8978,
          5757,
          14349,
          10928,
          39871,
          13974,
          1909,
          12096,
          13204,
          4562,
          8551,
          2102,
          34672,
          15161,
          11884,
          4454,
          5855,
          4076,
          15019,
          19023,
          10796,
          11353,
          9748,
          10577,
          41676,
          11286,
          3591,
          33907,
          11299,
          4561,
          44641,
          1674,
          23045,
          3227,
          16776,
          11253,
          3471,
          11363,
          20420,
          10338,
          8988,
          10493,
          2904,
          8605,
          11512,
          41949,
          24180,
          5312,
          2396,
          10807,
          9222,
          36124,
          38282,
          5693,
          34166,
          8347,
          46661,
          18903,
          40904,
          14254,
          10214,
          5836,
          14358,
          1728,
          8582,
          3693,
          20709,
          9991,
          19673,
          11085,
          7623,
          3176,
          3704,
          36898,
          9048,
          7954,
          27117,
          6338,
          9630,
          11289,
          52590,
          2261,
          10791,
          5979,
          2203,
          12235,
          40941,
          5630,
          11015,
          7228,
          39722,
          14426,
          2459,
          3989,
          7727,
          5124,
          18963,
          2200,
          7153,
          5227,
          10982,
          4529,
          4670,
          6112,
          17178,
          22478,
          11093,
          6457,
          4433,
          2154,
          23887,
          6496,
          2899,
          19350,
          7650,
          2850,
          2632,
          9447,
          18328,
          8603,
          37465,
          13844,
          21771,
          13126,
          5327,
          13725,
          13019,
          8671,
          4134,
          18838,
          33307,
          5699,
          6393,
          4934,
          6198,
          8733,
          2055,
          9964,
          18223,
          5116,
          36910,
          38415,
          20296,
          12347,
          5373,
          23563,
          1702,
          10806,
          3956,
          12890,
          5415,
          4058,
          41661,
          7537,
          4718,
          6593,
          8442,
          26125,
          6858,
          4795,
          6640,
          7162,
          10594,
          11938,
          60021,
          20167,
          12479,
          11345,
          8515,
          2699,
          14449,
          12224,
          6985,
          3238,
          47269,
          49577,
          4296,
          3171,
          1135,
          5615,
          9101,
          6059,
          1633,
          37607,
          18648,
          1241,
          16232,
          15828,
          4415,
          6474,
          11436,
          11305,
          30063,
          10197,
          4544,
          3277,
          6770,
          7337,
          10370,
          26926,
          10704,
          34254,
          1880,
          8615,
          3292,
          3021,
          14478,
          4747,
          17043,
          10959,
          2741,
          4357,
          22462,
          4189,
          8283,
          24535,
          14283,
          1720,
          47403,
          8534,
          3732,
          5472,
          38344,
          7147,
          7133,
          34828,
          1515,
          9301,
          11931,
          1964,
          1708,
          4340,
          5261,
          2710,
          62592,
          46718,
          3208,
          37829,
          21259,
          2464,
          16115,
          21472,
          33900,
          6875,
          6940,
          4571,
          4536,
          36397,
          18765,
          11272,
          1731,
          1163,
          19496,
          7201,
          5425,
          28101,
          12981,
          43896,
          4239,
          13143,
          7050,
          9377,
          22395,
          10325,
          12629,
          10795,
          11411,
          10600,
          2205,
          1629,
          2007,
          29141
         ],
         "y0": " ",
         "yaxis": "y"
        }
       ],
       "layout": {
        "boxmode": "group",
        "legend": {
         "tracegroupgap": 0
        },
        "margin": {
         "t": 60
        },
        "template": {
         "data": {
          "bar": [
           {
            "error_x": {
             "color": "#2a3f5f"
            },
            "error_y": {
             "color": "#2a3f5f"
            },
            "marker": {
             "line": {
              "color": "#E5ECF6",
              "width": 0.5
             },
             "pattern": {
              "fillmode": "overlay",
              "size": 10,
              "solidity": 0.2
             }
            },
            "type": "bar"
           }
          ],
          "barpolar": [
           {
            "marker": {
             "line": {
              "color": "#E5ECF6",
              "width": 0.5
             },
             "pattern": {
              "fillmode": "overlay",
              "size": 10,
              "solidity": 0.2
             }
            },
            "type": "barpolar"
           }
          ],
          "carpet": [
           {
            "aaxis": {
             "endlinecolor": "#2a3f5f",
             "gridcolor": "white",
             "linecolor": "white",
             "minorgridcolor": "white",
             "startlinecolor": "#2a3f5f"
            },
            "baxis": {
             "endlinecolor": "#2a3f5f",
             "gridcolor": "white",
             "linecolor": "white",
             "minorgridcolor": "white",
             "startlinecolor": "#2a3f5f"
            },
            "type": "carpet"
           }
          ],
          "choropleth": [
           {
            "colorbar": {
             "outlinewidth": 0,
             "ticks": ""
            },
            "type": "choropleth"
           }
          ],
          "contour": [
           {
            "colorbar": {
             "outlinewidth": 0,
             "ticks": ""
            },
            "colorscale": [
             [
              0,
              "#0d0887"
             ],
             [
              0.1111111111111111,
              "#46039f"
             ],
             [
              0.2222222222222222,
              "#7201a8"
             ],
             [
              0.3333333333333333,
              "#9c179e"
             ],
             [
              0.4444444444444444,
              "#bd3786"
             ],
             [
              0.5555555555555556,
              "#d8576b"
             ],
             [
              0.6666666666666666,
              "#ed7953"
             ],
             [
              0.7777777777777778,
              "#fb9f3a"
             ],
             [
              0.8888888888888888,
              "#fdca26"
             ],
             [
              1,
              "#f0f921"
             ]
            ],
            "type": "contour"
           }
          ],
          "contourcarpet": [
           {
            "colorbar": {
             "outlinewidth": 0,
             "ticks": ""
            },
            "type": "contourcarpet"
           }
          ],
          "heatmap": [
           {
            "colorbar": {
             "outlinewidth": 0,
             "ticks": ""
            },
            "colorscale": [
             [
              0,
              "#0d0887"
             ],
             [
              0.1111111111111111,
              "#46039f"
             ],
             [
              0.2222222222222222,
              "#7201a8"
             ],
             [
              0.3333333333333333,
              "#9c179e"
             ],
             [
              0.4444444444444444,
              "#bd3786"
             ],
             [
              0.5555555555555556,
              "#d8576b"
             ],
             [
              0.6666666666666666,
              "#ed7953"
             ],
             [
              0.7777777777777778,
              "#fb9f3a"
             ],
             [
              0.8888888888888888,
              "#fdca26"
             ],
             [
              1,
              "#f0f921"
             ]
            ],
            "type": "heatmap"
           }
          ],
          "heatmapgl": [
           {
            "colorbar": {
             "outlinewidth": 0,
             "ticks": ""
            },
            "colorscale": [
             [
              0,
              "#0d0887"
             ],
             [
              0.1111111111111111,
              "#46039f"
             ],
             [
              0.2222222222222222,
              "#7201a8"
             ],
             [
              0.3333333333333333,
              "#9c179e"
             ],
             [
              0.4444444444444444,
              "#bd3786"
             ],
             [
              0.5555555555555556,
              "#d8576b"
             ],
             [
              0.6666666666666666,
              "#ed7953"
             ],
             [
              0.7777777777777778,
              "#fb9f3a"
             ],
             [
              0.8888888888888888,
              "#fdca26"
             ],
             [
              1,
              "#f0f921"
             ]
            ],
            "type": "heatmapgl"
           }
          ],
          "histogram": [
           {
            "marker": {
             "pattern": {
              "fillmode": "overlay",
              "size": 10,
              "solidity": 0.2
             }
            },
            "type": "histogram"
           }
          ],
          "histogram2d": [
           {
            "colorbar": {
             "outlinewidth": 0,
             "ticks": ""
            },
            "colorscale": [
             [
              0,
              "#0d0887"
             ],
             [
              0.1111111111111111,
              "#46039f"
             ],
             [
              0.2222222222222222,
              "#7201a8"
             ],
             [
              0.3333333333333333,
              "#9c179e"
             ],
             [
              0.4444444444444444,
              "#bd3786"
             ],
             [
              0.5555555555555556,
              "#d8576b"
             ],
             [
              0.6666666666666666,
              "#ed7953"
             ],
             [
              0.7777777777777778,
              "#fb9f3a"
             ],
             [
              0.8888888888888888,
              "#fdca26"
             ],
             [
              1,
              "#f0f921"
             ]
            ],
            "type": "histogram2d"
           }
          ],
          "histogram2dcontour": [
           {
            "colorbar": {
             "outlinewidth": 0,
             "ticks": ""
            },
            "colorscale": [
             [
              0,
              "#0d0887"
             ],
             [
              0.1111111111111111,
              "#46039f"
             ],
             [
              0.2222222222222222,
              "#7201a8"
             ],
             [
              0.3333333333333333,
              "#9c179e"
             ],
             [
              0.4444444444444444,
              "#bd3786"
             ],
             [
              0.5555555555555556,
              "#d8576b"
             ],
             [
              0.6666666666666666,
              "#ed7953"
             ],
             [
              0.7777777777777778,
              "#fb9f3a"
             ],
             [
              0.8888888888888888,
              "#fdca26"
             ],
             [
              1,
              "#f0f921"
             ]
            ],
            "type": "histogram2dcontour"
           }
          ],
          "mesh3d": [
           {
            "colorbar": {
             "outlinewidth": 0,
             "ticks": ""
            },
            "type": "mesh3d"
           }
          ],
          "parcoords": [
           {
            "line": {
             "colorbar": {
              "outlinewidth": 0,
              "ticks": ""
             }
            },
            "type": "parcoords"
           }
          ],
          "pie": [
           {
            "automargin": true,
            "type": "pie"
           }
          ],
          "scatter": [
           {
            "fillpattern": {
             "fillmode": "overlay",
             "size": 10,
             "solidity": 0.2
            },
            "type": "scatter"
           }
          ],
          "scatter3d": [
           {
            "line": {
             "colorbar": {
              "outlinewidth": 0,
              "ticks": ""
             }
            },
            "marker": {
             "colorbar": {
              "outlinewidth": 0,
              "ticks": ""
             }
            },
            "type": "scatter3d"
           }
          ],
          "scattercarpet": [
           {
            "marker": {
             "colorbar": {
              "outlinewidth": 0,
              "ticks": ""
             }
            },
            "type": "scattercarpet"
           }
          ],
          "scattergeo": [
           {
            "marker": {
             "colorbar": {
              "outlinewidth": 0,
              "ticks": ""
             }
            },
            "type": "scattergeo"
           }
          ],
          "scattergl": [
           {
            "marker": {
             "colorbar": {
              "outlinewidth": 0,
              "ticks": ""
             }
            },
            "type": "scattergl"
           }
          ],
          "scattermapbox": [
           {
            "marker": {
             "colorbar": {
              "outlinewidth": 0,
              "ticks": ""
             }
            },
            "type": "scattermapbox"
           }
          ],
          "scatterpolar": [
           {
            "marker": {
             "colorbar": {
              "outlinewidth": 0,
              "ticks": ""
             }
            },
            "type": "scatterpolar"
           }
          ],
          "scatterpolargl": [
           {
            "marker": {
             "colorbar": {
              "outlinewidth": 0,
              "ticks": ""
             }
            },
            "type": "scatterpolargl"
           }
          ],
          "scatterternary": [
           {
            "marker": {
             "colorbar": {
              "outlinewidth": 0,
              "ticks": ""
             }
            },
            "type": "scatterternary"
           }
          ],
          "surface": [
           {
            "colorbar": {
             "outlinewidth": 0,
             "ticks": ""
            },
            "colorscale": [
             [
              0,
              "#0d0887"
             ],
             [
              0.1111111111111111,
              "#46039f"
             ],
             [
              0.2222222222222222,
              "#7201a8"
             ],
             [
              0.3333333333333333,
              "#9c179e"
             ],
             [
              0.4444444444444444,
              "#bd3786"
             ],
             [
              0.5555555555555556,
              "#d8576b"
             ],
             [
              0.6666666666666666,
              "#ed7953"
             ],
             [
              0.7777777777777778,
              "#fb9f3a"
             ],
             [
              0.8888888888888888,
              "#fdca26"
             ],
             [
              1,
              "#f0f921"
             ]
            ],
            "type": "surface"
           }
          ],
          "table": [
           {
            "cells": {
             "fill": {
              "color": "#EBF0F8"
             },
             "line": {
              "color": "white"
             }
            },
            "header": {
             "fill": {
              "color": "#C8D4E3"
             },
             "line": {
              "color": "white"
             }
            },
            "type": "table"
           }
          ]
         },
         "layout": {
          "annotationdefaults": {
           "arrowcolor": "#2a3f5f",
           "arrowhead": 0,
           "arrowwidth": 1
          },
          "autotypenumbers": "strict",
          "coloraxis": {
           "colorbar": {
            "outlinewidth": 0,
            "ticks": ""
           }
          },
          "colorscale": {
           "diverging": [
            [
             0,
             "#8e0152"
            ],
            [
             0.1,
             "#c51b7d"
            ],
            [
             0.2,
             "#de77ae"
            ],
            [
             0.3,
             "#f1b6da"
            ],
            [
             0.4,
             "#fde0ef"
            ],
            [
             0.5,
             "#f7f7f7"
            ],
            [
             0.6,
             "#e6f5d0"
            ],
            [
             0.7,
             "#b8e186"
            ],
            [
             0.8,
             "#7fbc41"
            ],
            [
             0.9,
             "#4d9221"
            ],
            [
             1,
             "#276419"
            ]
           ],
           "sequential": [
            [
             0,
             "#0d0887"
            ],
            [
             0.1111111111111111,
             "#46039f"
            ],
            [
             0.2222222222222222,
             "#7201a8"
            ],
            [
             0.3333333333333333,
             "#9c179e"
            ],
            [
             0.4444444444444444,
             "#bd3786"
            ],
            [
             0.5555555555555556,
             "#d8576b"
            ],
            [
             0.6666666666666666,
             "#ed7953"
            ],
            [
             0.7777777777777778,
             "#fb9f3a"
            ],
            [
             0.8888888888888888,
             "#fdca26"
            ],
            [
             1,
             "#f0f921"
            ]
           ],
           "sequentialminus": [
            [
             0,
             "#0d0887"
            ],
            [
             0.1111111111111111,
             "#46039f"
            ],
            [
             0.2222222222222222,
             "#7201a8"
            ],
            [
             0.3333333333333333,
             "#9c179e"
            ],
            [
             0.4444444444444444,
             "#bd3786"
            ],
            [
             0.5555555555555556,
             "#d8576b"
            ],
            [
             0.6666666666666666,
             "#ed7953"
            ],
            [
             0.7777777777777778,
             "#fb9f3a"
            ],
            [
             0.8888888888888888,
             "#fdca26"
            ],
            [
             1,
             "#f0f921"
            ]
           ]
          },
          "colorway": [
           "#636efa",
           "#EF553B",
           "#00cc96",
           "#ab63fa",
           "#FFA15A",
           "#19d3f3",
           "#FF6692",
           "#B6E880",
           "#FF97FF",
           "#FECB52"
          ],
          "font": {
           "color": "#2a3f5f"
          },
          "geo": {
           "bgcolor": "white",
           "lakecolor": "white",
           "landcolor": "#E5ECF6",
           "showlakes": true,
           "showland": true,
           "subunitcolor": "white"
          },
          "hoverlabel": {
           "align": "left"
          },
          "hovermode": "closest",
          "mapbox": {
           "style": "light"
          },
          "paper_bgcolor": "white",
          "plot_bgcolor": "#E5ECF6",
          "polar": {
           "angularaxis": {
            "gridcolor": "white",
            "linecolor": "white",
            "ticks": ""
           },
           "bgcolor": "#E5ECF6",
           "radialaxis": {
            "gridcolor": "white",
            "linecolor": "white",
            "ticks": ""
           }
          },
          "scene": {
           "xaxis": {
            "backgroundcolor": "#E5ECF6",
            "gridcolor": "white",
            "gridwidth": 2,
            "linecolor": "white",
            "showbackground": true,
            "ticks": "",
            "zerolinecolor": "white"
           },
           "yaxis": {
            "backgroundcolor": "#E5ECF6",
            "gridcolor": "white",
            "gridwidth": 2,
            "linecolor": "white",
            "showbackground": true,
            "ticks": "",
            "zerolinecolor": "white"
           },
           "zaxis": {
            "backgroundcolor": "#E5ECF6",
            "gridcolor": "white",
            "gridwidth": 2,
            "linecolor": "white",
            "showbackground": true,
            "ticks": "",
            "zerolinecolor": "white"
           }
          },
          "shapedefaults": {
           "line": {
            "color": "#2a3f5f"
           }
          },
          "ternary": {
           "aaxis": {
            "gridcolor": "white",
            "linecolor": "white",
            "ticks": ""
           },
           "baxis": {
            "gridcolor": "white",
            "linecolor": "white",
            "ticks": ""
           },
           "bgcolor": "#E5ECF6",
           "caxis": {
            "gridcolor": "white",
            "linecolor": "white",
            "ticks": ""
           }
          },
          "title": {
           "x": 0.05
          },
          "xaxis": {
           "automargin": true,
           "gridcolor": "white",
           "linecolor": "white",
           "ticks": "",
           "title": {
            "standoff": 15
           },
           "zerolinecolor": "white",
           "zerolinewidth": 2
          },
          "yaxis": {
           "automargin": true,
           "gridcolor": "white",
           "linecolor": "white",
           "ticks": "",
           "title": {
            "standoff": 15
           },
           "zerolinecolor": "white",
           "zerolinewidth": 2
          }
         }
        },
        "xaxis": {
         "anchor": "y",
         "domain": [
          0,
          1
         ]
        },
        "yaxis": {
         "anchor": "x",
         "domain": [
          0,
          1
         ],
         "title": {
          "text": "charges"
         }
        }
       }
      },
      "text/html": [
       "<div>                            <div id=\"5920039f-5718-47a7-8924-0eea7f7bbff2\" class=\"plotly-graph-div\" style=\"height:525px; width:100%;\"></div>            <script type=\"text/javascript\">                require([\"plotly\"], function(Plotly) {                    window.PLOTLYENV=window.PLOTLYENV || {};                                    if (document.getElementById(\"5920039f-5718-47a7-8924-0eea7f7bbff2\")) {                    Plotly.newPlot(                        \"5920039f-5718-47a7-8924-0eea7f7bbff2\",                        [{\"alignmentgroup\":\"True\",\"hovertemplate\":\"charges=%{y}<extra></extra>\",\"legendgroup\":\"\",\"marker\":{\"color\":\"#636efa\"},\"name\":\"\",\"notched\":false,\"offsetgroup\":\"\",\"orientation\":\"v\",\"showlegend\":false,\"x0\":\" \",\"xaxis\":\"x\",\"y\":[16884,1725,4449,21984,3866,3756,8240,7281,6406,28923,2721,27808,1826,11090,39611,1837,10797,2395,10602,36837,13228,4149,1137,37701,6203,14001,14451,12268,2775,38711,35585,2198,4687,13770,51194,1625,15612,2302,39774,48173,3046,4949,6272,6313,6079,20630,3393,3556,12629,38709,2211,3579,23568,37742,8059,47496,13607,34303,23244,5989,8606,4504,30166,4133,14711,1743,14235,6389,5920,17663,16577,6799,11741,11946,7726,11356,3947,1532,2755,6571,4441,7935,37165,11033,39836,21098,43578,11073,8026,11082,2026,10942,30184,5729,47291,3766,12105,10226,22412,15820,6186,3645,21344,30942,5003,17560,2331,3877,2867,47055,10825,11881,4646,2404,11488,30259,11381,19107,8601,6686,7740,1705,2257,39556,10115,3385,17081,9634,32734,6082,12815,13616,11163,1632,2457,2155,1261,2045,27322,2166,27375,3490,18972,18157,20745,5138,40720,9877,10959,1842,5125,7789,6334,19964,7077,6948,21223,15518,36950,19749,21348,36149,10450,5152,5028,10407,4830,6128,2719,4827,13405,8116,1694,5246,2855,48824,6455,10436,8823,8538,11735,1631,4005,7419,7731,43753,3981,5325,6775,4922,12557,4883,2137,12044,1137,1639,5649,8516,9644,14901,2130,8871,13012,37133,7147,4337,11743,20984,13880,6610,1980,8162,3537,5002,8520,7371,10355,2483,3392,25081,5012,10564,5253,34779,19515,11987,2689,24227,7358,9225,7443,14001,1727,12333,6710,19444,1615,4463,17352,7152,38511,5354,35160,7196,29523,24476,12648,1986,1832,4040,12829,47305,44260,4260,41097,13047,43921,5400,11520,33750,11837,17085,24869,36219,20462,46151,17179,14590,7441,9282,1719,42856,7265,9617,2523,9715,2803,2150,12928,9855,22331,48549,4237,11879,9625,7742,9432,14256,47896,25992,3172,20277,42112,2156,3906,1704,16297,21978,38746,9249,6746,24873,12265,4349,12646,19442,20177,4151,11944,7749,8444,1737,42124,8124,34838,9722,8835,10435,7421,4667,4894,24671,35491,11566,2866,6600,3561,42760,47928,9144,48517,24393,13429,11658,19144,13822,12142,13937,41919,8232,18955,13352,13217,13981,10977,6184,4889,8334,5478,1635,11830,8932,3554,12404,14133,24603,8944,9620,1837,1607,10043,4751,13844,2597,3180,9778,13430,8017,8116,3481,13415,12029,7639,36085,1391,18033,21659,38126,16455,27000,15006,42303,20781,5846,8302,1261,11856,30284,3176,4618,10736,2138,8964,9290,9411,7526,8522,16586,14988,1631,9264,8083,14692,10269,3260,11396,4185,8539,6652,4074,1621,19594,14455,5080,2134,7345,9140,18608,14418,28950,46889,46599,39125,2727,8968,9788,6555,7323,3167,18804,23082,4906,5969,12638,4243,13919,2254,5926,12592,2897,4738,37079,1149,28287,26109,7345,12730,11454,5910,4762,7512,4032,1969,1769,4686,21797,11881,11840,10601,7682,10381,22144,15230,11165,1632,19521,13224,12643,23288,2201,2497,2203,1744,20878,25382,28868,35147,2534,1534,1824,15555,9304,1622,9880,9563,4347,12475,1253,48885,10461,1748,24513,2196,12574,17942,1967,4931,8027,8211,13470,36197,6837,22218,32548,5974,6796,2643,3077,3044,11455,11763,2498,9361,1256,21082,11362,27724,8413,5240,3857,25656,3994,9866,5397,38245,11482,24059,9861,8342,1708,48675,14043,12925,19214,13831,6067,5972,8825,8233,27346,6196,3056,13887,63770,10231,23807,3268,11538,3213,45863,13390,3972,12957,11187,17878,3847,8334,3935,39983,1646,9193,10923,2494,9058,2801,2128,6373,7256,11552,45702,3761,2219,4753,31620,13224,12222,1664,58571,9724,3206,12913,1639,6356,17626,1242,4779,3861,43943,13635,5976,11842,8428,2566,15359,5709,8823,7640,5594,7441,33471,1633,9174,11070,16085,17468,9283,3558,25678,4435,39241,8547,6571,2207,6753,1880,42969,11658,23306,34439,10713,3659,40182,9182,34617,12129,3736,6748,11326,11365,42983,10085,1977,3366,7173,9391,14410,2709,24915,20149,12949,6666,32787,13143,4466,18806,10141,6123,8252,1712,12430,9800,10579,8280,8527,12244,24667,3410,4058,26392,14394,6435,22192,5148,1136,27037,42560,8703,40003,45710,6500,4837,3943,4399,6185,46200,7222,12485,46130,12363,10156,2585,1242,40103,9863,4766,11244,7729,5438,26236,34806,2104,8068,2362,2352,3577,3201,29186,40273,10976,3500,2020,9541,9504,5385,8930,5375,44400,10264,6113,5469,1727,10107,8310,1984,2457,12146,9566,13112,10848,12231,9875,11264,12979,1263,10106,40932,6664,16657,2217,6781,19361,10065,4234,9447,14007,9583,40419,3484,36189,44585,8604,18246,43254,3757,8827,9910,11737,1627,8556,3062,19539,1906,14210,11833,17128,5031,7985,23065,5428,36307,3925,2416,19040,3070,9095,11842,8062,7050,14319,6933,27941,11150,12797,17748,7261,10560,6986,7448,5934,9869,18259,1146,9386,24520,4350,6414,12741,1917,5209,13457,5662,1252,2731,21195,7209,18310,4266,4719,11848,17904,7046,14313,2103,38792,1815,7731,28476,2136,1131,3309,9414,6360,11013,4428,5584,1877,2842,3597,23401,55135,7445,2680,1621,8219,12523,16069,43813,20773,39597,6117,13393,5266,4719,11743,5377,7160,4402,11657,6402,12622,1526,12323,36021,27533,10072,45008,9872,2438,2974,10601,37270,14119,42111,11729,24106,1875,40974,15817,18218,10965,46113,7151,12269,5458,8782,6600,1141,11576,13129,4391,8457,3392,5966,6849,8891,2690,26140,6653,6282,6311,3443,2789,2585,46255,4877,19719,27218,5272,1682,11945,29330,7243,10422,44202,13555,13063,19798,2221,1634,2117,8688,48673,4661,8125,12644,4564,4846,7633,15170,17496,2639,33732,14382,7626,5257,2473,21774,35069,13041,5245,13451,13462,5488,4320,6250,25333,2913,12032,13470,6289,2927,6238,10096,7348,4673,12233,32108,8965,2304,9487,1121,9549,2217,1628,12982,11674,7160,39047,6358,19933,11534,47462,4527,38998,20009,3875,41999,12609,41034,28468,2730,3353,14474,9500,26467,4746,23967,7518,3279,8596,10702,4992,2527,1759,2322,16138,7804,2902,9704,4889,25517,4500,19199,16796,4915,7624,8410,28340,4518,14571,3378,7144,10118,5484,16420,7986,7418,13887,6551,5267,17361,34472,1972,21232,8627,4433,4438,24915,23241,9957,8269,18767,36580,8765,5383,12124,2709,3987,12495,26018,8798,35595,42211,1711,8569,2020,16450,21595,9850,6877,21677,44423,4137,13747,12950,12094,37484,39725,2250,22493,20234,1704,33475,3161,11394,21880,7325,44501,3594,39727,8023,14394,9288,25309,3353,10594,8277,17929,2480,4462,1981,11554,48970,6548,5708,7045,8978,5757,14349,10928,39871,13974,1909,12096,13204,4562,8551,2102,34672,15161,11884,4454,5855,4076,15019,19023,10796,11353,9748,10577,41676,11286,3591,33907,11299,4561,44641,1674,23045,3227,16776,11253,3471,11363,20420,10338,8988,10493,2904,8605,11512,41949,24180,5312,2396,10807,9222,36124,38282,5693,34166,8347,46661,18903,40904,14254,10214,5836,14358,1728,8582,3693,20709,9991,19673,11085,7623,3176,3704,36898,9048,7954,27117,6338,9630,11289,52590,2261,10791,5979,2203,12235,40941,5630,11015,7228,39722,14426,2459,3989,7727,5124,18963,2200,7153,5227,10982,4529,4670,6112,17178,22478,11093,6457,4433,2154,23887,6496,2899,19350,7650,2850,2632,9447,18328,8603,37465,13844,21771,13126,5327,13725,13019,8671,4134,18838,33307,5699,6393,4934,6198,8733,2055,9964,18223,5116,36910,38415,20296,12347,5373,23563,1702,10806,3956,12890,5415,4058,41661,7537,4718,6593,8442,26125,6858,4795,6640,7162,10594,11938,60021,20167,12479,11345,8515,2699,14449,12224,6985,3238,47269,49577,4296,3171,1135,5615,9101,6059,1633,37607,18648,1241,16232,15828,4415,6474,11436,11305,30063,10197,4544,3277,6770,7337,10370,26926,10704,34254,1880,8615,3292,3021,14478,4747,17043,10959,2741,4357,22462,4189,8283,24535,14283,1720,47403,8534,3732,5472,38344,7147,7133,34828,1515,9301,11931,1964,1708,4340,5261,2710,62592,46718,3208,37829,21259,2464,16115,21472,33900,6875,6940,4571,4536,36397,18765,11272,1731,1163,19496,7201,5425,28101,12981,43896,4239,13143,7050,9377,22395,10325,12629,10795,11411,10600,2205,1629,2007,29141],\"y0\":\" \",\"yaxis\":\"y\",\"type\":\"box\"}],                        {\"template\":{\"data\":{\"histogram2dcontour\":[{\"type\":\"histogram2dcontour\",\"colorbar\":{\"outlinewidth\":0,\"ticks\":\"\"},\"colorscale\":[[0.0,\"#0d0887\"],[0.1111111111111111,\"#46039f\"],[0.2222222222222222,\"#7201a8\"],[0.3333333333333333,\"#9c179e\"],[0.4444444444444444,\"#bd3786\"],[0.5555555555555556,\"#d8576b\"],[0.6666666666666666,\"#ed7953\"],[0.7777777777777778,\"#fb9f3a\"],[0.8888888888888888,\"#fdca26\"],[1.0,\"#f0f921\"]]}],\"choropleth\":[{\"type\":\"choropleth\",\"colorbar\":{\"outlinewidth\":0,\"ticks\":\"\"}}],\"histogram2d\":[{\"type\":\"histogram2d\",\"colorbar\":{\"outlinewidth\":0,\"ticks\":\"\"},\"colorscale\":[[0.0,\"#0d0887\"],[0.1111111111111111,\"#46039f\"],[0.2222222222222222,\"#7201a8\"],[0.3333333333333333,\"#9c179e\"],[0.4444444444444444,\"#bd3786\"],[0.5555555555555556,\"#d8576b\"],[0.6666666666666666,\"#ed7953\"],[0.7777777777777778,\"#fb9f3a\"],[0.8888888888888888,\"#fdca26\"],[1.0,\"#f0f921\"]]}],\"heatmap\":[{\"type\":\"heatmap\",\"colorbar\":{\"outlinewidth\":0,\"ticks\":\"\"},\"colorscale\":[[0.0,\"#0d0887\"],[0.1111111111111111,\"#46039f\"],[0.2222222222222222,\"#7201a8\"],[0.3333333333333333,\"#9c179e\"],[0.4444444444444444,\"#bd3786\"],[0.5555555555555556,\"#d8576b\"],[0.6666666666666666,\"#ed7953\"],[0.7777777777777778,\"#fb9f3a\"],[0.8888888888888888,\"#fdca26\"],[1.0,\"#f0f921\"]]}],\"heatmapgl\":[{\"type\":\"heatmapgl\",\"colorbar\":{\"outlinewidth\":0,\"ticks\":\"\"},\"colorscale\":[[0.0,\"#0d0887\"],[0.1111111111111111,\"#46039f\"],[0.2222222222222222,\"#7201a8\"],[0.3333333333333333,\"#9c179e\"],[0.4444444444444444,\"#bd3786\"],[0.5555555555555556,\"#d8576b\"],[0.6666666666666666,\"#ed7953\"],[0.7777777777777778,\"#fb9f3a\"],[0.8888888888888888,\"#fdca26\"],[1.0,\"#f0f921\"]]}],\"contourcarpet\":[{\"type\":\"contourcarpet\",\"colorbar\":{\"outlinewidth\":0,\"ticks\":\"\"}}],\"contour\":[{\"type\":\"contour\",\"colorbar\":{\"outlinewidth\":0,\"ticks\":\"\"},\"colorscale\":[[0.0,\"#0d0887\"],[0.1111111111111111,\"#46039f\"],[0.2222222222222222,\"#7201a8\"],[0.3333333333333333,\"#9c179e\"],[0.4444444444444444,\"#bd3786\"],[0.5555555555555556,\"#d8576b\"],[0.6666666666666666,\"#ed7953\"],[0.7777777777777778,\"#fb9f3a\"],[0.8888888888888888,\"#fdca26\"],[1.0,\"#f0f921\"]]}],\"surface\":[{\"type\":\"surface\",\"colorbar\":{\"outlinewidth\":0,\"ticks\":\"\"},\"colorscale\":[[0.0,\"#0d0887\"],[0.1111111111111111,\"#46039f\"],[0.2222222222222222,\"#7201a8\"],[0.3333333333333333,\"#9c179e\"],[0.4444444444444444,\"#bd3786\"],[0.5555555555555556,\"#d8576b\"],[0.6666666666666666,\"#ed7953\"],[0.7777777777777778,\"#fb9f3a\"],[0.8888888888888888,\"#fdca26\"],[1.0,\"#f0f921\"]]}],\"mesh3d\":[{\"type\":\"mesh3d\",\"colorbar\":{\"outlinewidth\":0,\"ticks\":\"\"}}],\"scatter\":[{\"fillpattern\":{\"fillmode\":\"overlay\",\"size\":10,\"solidity\":0.2},\"type\":\"scatter\"}],\"parcoords\":[{\"type\":\"parcoords\",\"line\":{\"colorbar\":{\"outlinewidth\":0,\"ticks\":\"\"}}}],\"scatterpolargl\":[{\"type\":\"scatterpolargl\",\"marker\":{\"colorbar\":{\"outlinewidth\":0,\"ticks\":\"\"}}}],\"bar\":[{\"error_x\":{\"color\":\"#2a3f5f\"},\"error_y\":{\"color\":\"#2a3f5f\"},\"marker\":{\"line\":{\"color\":\"#E5ECF6\",\"width\":0.5},\"pattern\":{\"fillmode\":\"overlay\",\"size\":10,\"solidity\":0.2}},\"type\":\"bar\"}],\"scattergeo\":[{\"type\":\"scattergeo\",\"marker\":{\"colorbar\":{\"outlinewidth\":0,\"ticks\":\"\"}}}],\"scatterpolar\":[{\"type\":\"scatterpolar\",\"marker\":{\"colorbar\":{\"outlinewidth\":0,\"ticks\":\"\"}}}],\"histogram\":[{\"marker\":{\"pattern\":{\"fillmode\":\"overlay\",\"size\":10,\"solidity\":0.2}},\"type\":\"histogram\"}],\"scattergl\":[{\"type\":\"scattergl\",\"marker\":{\"colorbar\":{\"outlinewidth\":0,\"ticks\":\"\"}}}],\"scatter3d\":[{\"type\":\"scatter3d\",\"line\":{\"colorbar\":{\"outlinewidth\":0,\"ticks\":\"\"}},\"marker\":{\"colorbar\":{\"outlinewidth\":0,\"ticks\":\"\"}}}],\"scattermapbox\":[{\"type\":\"scattermapbox\",\"marker\":{\"colorbar\":{\"outlinewidth\":0,\"ticks\":\"\"}}}],\"scatterternary\":[{\"type\":\"scatterternary\",\"marker\":{\"colorbar\":{\"outlinewidth\":0,\"ticks\":\"\"}}}],\"scattercarpet\":[{\"type\":\"scattercarpet\",\"marker\":{\"colorbar\":{\"outlinewidth\":0,\"ticks\":\"\"}}}],\"carpet\":[{\"aaxis\":{\"endlinecolor\":\"#2a3f5f\",\"gridcolor\":\"white\",\"linecolor\":\"white\",\"minorgridcolor\":\"white\",\"startlinecolor\":\"#2a3f5f\"},\"baxis\":{\"endlinecolor\":\"#2a3f5f\",\"gridcolor\":\"white\",\"linecolor\":\"white\",\"minorgridcolor\":\"white\",\"startlinecolor\":\"#2a3f5f\"},\"type\":\"carpet\"}],\"table\":[{\"cells\":{\"fill\":{\"color\":\"#EBF0F8\"},\"line\":{\"color\":\"white\"}},\"header\":{\"fill\":{\"color\":\"#C8D4E3\"},\"line\":{\"color\":\"white\"}},\"type\":\"table\"}],\"barpolar\":[{\"marker\":{\"line\":{\"color\":\"#E5ECF6\",\"width\":0.5},\"pattern\":{\"fillmode\":\"overlay\",\"size\":10,\"solidity\":0.2}},\"type\":\"barpolar\"}],\"pie\":[{\"automargin\":true,\"type\":\"pie\"}]},\"layout\":{\"autotypenumbers\":\"strict\",\"colorway\":[\"#636efa\",\"#EF553B\",\"#00cc96\",\"#ab63fa\",\"#FFA15A\",\"#19d3f3\",\"#FF6692\",\"#B6E880\",\"#FF97FF\",\"#FECB52\"],\"font\":{\"color\":\"#2a3f5f\"},\"hovermode\":\"closest\",\"hoverlabel\":{\"align\":\"left\"},\"paper_bgcolor\":\"white\",\"plot_bgcolor\":\"#E5ECF6\",\"polar\":{\"bgcolor\":\"#E5ECF6\",\"angularaxis\":{\"gridcolor\":\"white\",\"linecolor\":\"white\",\"ticks\":\"\"},\"radialaxis\":{\"gridcolor\":\"white\",\"linecolor\":\"white\",\"ticks\":\"\"}},\"ternary\":{\"bgcolor\":\"#E5ECF6\",\"aaxis\":{\"gridcolor\":\"white\",\"linecolor\":\"white\",\"ticks\":\"\"},\"baxis\":{\"gridcolor\":\"white\",\"linecolor\":\"white\",\"ticks\":\"\"},\"caxis\":{\"gridcolor\":\"white\",\"linecolor\":\"white\",\"ticks\":\"\"}},\"coloraxis\":{\"colorbar\":{\"outlinewidth\":0,\"ticks\":\"\"}},\"colorscale\":{\"sequential\":[[0.0,\"#0d0887\"],[0.1111111111111111,\"#46039f\"],[0.2222222222222222,\"#7201a8\"],[0.3333333333333333,\"#9c179e\"],[0.4444444444444444,\"#bd3786\"],[0.5555555555555556,\"#d8576b\"],[0.6666666666666666,\"#ed7953\"],[0.7777777777777778,\"#fb9f3a\"],[0.8888888888888888,\"#fdca26\"],[1.0,\"#f0f921\"]],\"sequentialminus\":[[0.0,\"#0d0887\"],[0.1111111111111111,\"#46039f\"],[0.2222222222222222,\"#7201a8\"],[0.3333333333333333,\"#9c179e\"],[0.4444444444444444,\"#bd3786\"],[0.5555555555555556,\"#d8576b\"],[0.6666666666666666,\"#ed7953\"],[0.7777777777777778,\"#fb9f3a\"],[0.8888888888888888,\"#fdca26\"],[1.0,\"#f0f921\"]],\"diverging\":[[0,\"#8e0152\"],[0.1,\"#c51b7d\"],[0.2,\"#de77ae\"],[0.3,\"#f1b6da\"],[0.4,\"#fde0ef\"],[0.5,\"#f7f7f7\"],[0.6,\"#e6f5d0\"],[0.7,\"#b8e186\"],[0.8,\"#7fbc41\"],[0.9,\"#4d9221\"],[1,\"#276419\"]]},\"xaxis\":{\"gridcolor\":\"white\",\"linecolor\":\"white\",\"ticks\":\"\",\"title\":{\"standoff\":15},\"zerolinecolor\":\"white\",\"automargin\":true,\"zerolinewidth\":2},\"yaxis\":{\"gridcolor\":\"white\",\"linecolor\":\"white\",\"ticks\":\"\",\"title\":{\"standoff\":15},\"zerolinecolor\":\"white\",\"automargin\":true,\"zerolinewidth\":2},\"scene\":{\"xaxis\":{\"backgroundcolor\":\"#E5ECF6\",\"gridcolor\":\"white\",\"linecolor\":\"white\",\"showbackground\":true,\"ticks\":\"\",\"zerolinecolor\":\"white\",\"gridwidth\":2},\"yaxis\":{\"backgroundcolor\":\"#E5ECF6\",\"gridcolor\":\"white\",\"linecolor\":\"white\",\"showbackground\":true,\"ticks\":\"\",\"zerolinecolor\":\"white\",\"gridwidth\":2},\"zaxis\":{\"backgroundcolor\":\"#E5ECF6\",\"gridcolor\":\"white\",\"linecolor\":\"white\",\"showbackground\":true,\"ticks\":\"\",\"zerolinecolor\":\"white\",\"gridwidth\":2}},\"shapedefaults\":{\"line\":{\"color\":\"#2a3f5f\"}},\"annotationdefaults\":{\"arrowcolor\":\"#2a3f5f\",\"arrowhead\":0,\"arrowwidth\":1},\"geo\":{\"bgcolor\":\"white\",\"landcolor\":\"#E5ECF6\",\"subunitcolor\":\"white\",\"showland\":true,\"showlakes\":true,\"lakecolor\":\"white\"},\"title\":{\"x\":0.05},\"mapbox\":{\"style\":\"light\"}}},\"xaxis\":{\"anchor\":\"y\",\"domain\":[0.0,1.0]},\"yaxis\":{\"anchor\":\"x\",\"domain\":[0.0,1.0],\"title\":{\"text\":\"charges\"}},\"legend\":{\"tracegroupgap\":0},\"margin\":{\"t\":60},\"boxmode\":\"group\"},                        {\"responsive\": true}                    ).then(function(){\n",
       "                            \n",
       "var gd = document.getElementById('5920039f-5718-47a7-8924-0eea7f7bbff2');\n",
       "var x = new MutationObserver(function (mutations, observer) {{\n",
       "        var display = window.getComputedStyle(gd).display;\n",
       "        if (!display || display === 'none') {{\n",
       "            console.log([gd, 'removed!']);\n",
       "            Plotly.purge(gd);\n",
       "            observer.disconnect();\n",
       "        }}\n",
       "}});\n",
       "\n",
       "// Listen for the removal of the full notebook cells\n",
       "var notebookContainer = gd.closest('#notebook-container');\n",
       "if (notebookContainer) {{\n",
       "    x.observe(notebookContainer, {childList: true});\n",
       "}}\n",
       "\n",
       "// Listen for the clearing of the current output cell\n",
       "var outputEl = gd.closest('.output');\n",
       "if (outputEl) {{\n",
       "    x.observe(outputEl, {childList: true});\n",
       "}}\n",
       "\n",
       "                        })                };                });            </script>        </div>"
      ]
     },
     "metadata": {},
     "output_type": "display_data"
    }
   ],
   "source": [
    "Outlier=px.box(df,y=\"charges\")\n",
    "Outlier"
   ]
  },
  {
   "cell_type": "markdown",
   "metadata": {},
   "source": [
    "# 6. Perform an exploratory analysis to determine the percentage of children"
   ]
  },
  {
   "cell_type": "code",
   "execution_count": 164,
   "metadata": {},
   "outputs": [
    {
     "data": {
      "image/png": "[encoded data removed]",
      "text/plain": [
       "<Figure size 360x360 with 1 Axes>"
      ]
     },
     "metadata": {
      "needs_background": "light"
     },
     "output_type": "display_data"
    }
   ],
   "source": [
    "df_per = df.groupby('region')['children'].value_counts(normalize=True)\n",
    "df_per = df_per.mul(100).rename('Percent').reset_index()\n",
    "\n",
    "df = sns.catplot(x='children', y='Percent', kind='bar', data=df_per)\n",
    "df.ax.set_ylim(0,100)\n",
    "\n",
    "for p in df.ax.patches:\n",
    "    per = str(p.get_height().round(1)) + '%'\n",
    "    per_x = p.get_x()\n",
    "    per_y = p.get_height()\n",
    "    df.ax.text(per_x,per_y,per)"
   ]
  },
  {
   "cell_type": "markdown",
   "metadata": {},
   "source": [
    "# 7. Show the distribution of charges"
   ]
  },
  {
   "cell_type": "code",
   "execution_count": 165,
   "metadata": {},
   "outputs": [
    {
     "data": {
      "image/png": "[encoded data removed]",
      "text/plain": [
       "<Figure size 432x288 with 1 Axes>"
      ]
     },
     "metadata": {
      "needs_background": "light"
     },
     "output_type": "display_data"
    }
   ],
   "source": [
    "import numpy as np\n",
    "import pandas as pd\n",
    "%matplotlib inline\n",
    "df=pd.read_csv('insurance.csv')\n",
    "dst=plt.plot(df['charges'])"
   ]
  },
  {
   "cell_type": "markdown",
   "metadata": {},
   "source": [
    "# 8. Show the distribution of BMI"
   ]
  },
  {
   "cell_type": "code",
   "execution_count": 166,
   "metadata": {},
   "outputs": [
    {
     "data": {
      "image/png": "[encoded data removed]",
      "text/plain": [
       "<Figure size 432x288 with 1 Axes>"
      ]
     },
     "metadata": {
      "needs_background": "light"
     },
     "output_type": "display_data"
    }
   ],
   "source": [
    "dst=plt.plot(df['bmi'])"
   ]
  },
  {
   "cell_type": "markdown",
   "metadata": {},
   "source": [
    "9. Perform a predictive analysis to see if we can sucessfully predict the cost of medical insurance using the following algorithm:\n",
    "\n",
    "   a. Linear Regression\n",
    "   \n",
    "   b. DecisionTreeRegresssor\n",
    "   \n",
    "   c. RandomForestRegressor\n",
    "   \n",
    "   Compare and contrast to pick which of the Algorithm is suitable"
   ]
  },
  {
   "cell_type": "code",
   "execution_count": 179,
   "metadata": {},
   "outputs": [],
   "source": [
    "df['charges'] = df['charges'].astype('int')"
   ]
  },
  {
   "cell_type": "code",
   "execution_count": 180,
   "metadata": {},
   "outputs": [
    {
     "name": "stdout",
     "output_type": "stream",
     "text": [
      "<bound method NDFrame.astype of       age  sex     bmi  children  smoker  region  charges\n",
      "0      19    0  27.900         0       1       3    16884\n",
      "1      18    1  33.770         1       0       2     1725\n",
      "2      28    1  33.000         3       0       2     4449\n",
      "3      33    1  22.705         0       0       1    21984\n",
      "4      32    1  28.880         0       0       1     3866\n",
      "...   ...  ...     ...       ...     ...     ...      ...\n",
      "1333   50    1  30.970         3       0       1    10600\n",
      "1334   18    0  31.920         0       0       0     2205\n",
      "1335   18    0  36.850         0       0       2     1629\n",
      "1336   21    0  25.800         0       0       3     2007\n",
      "1337   61    0  29.070         0       1       1    29141\n",
      "\n",
      "[1338 rows x 7 columns]>\n"
     ]
    }
   ],
   "source": [
    "df = df.astype({'charges':'int'})\n",
    "print(df.astype)"
   ]
  },
  {
   "cell_type": "code",
   "execution_count": 181,
   "metadata": {},
   "outputs": [
    {
     "data": {
      "text/html": [
       "<div>\n",
       "<style scoped>\n",
       "    .dataframe tbody tr th:only-of-type {\n",
       "        vertical-align: middle;\n",
       "    }\n",
       "\n",
       "    .dataframe tbody tr th {\n",
       "        vertical-align: top;\n",
       "    }\n",
       "\n",
       "    .dataframe thead th {\n",
       "        text-align: right;\n",
       "    }\n",
       "</style>\n",
       "<table border=\"1\" class=\"dataframe\">\n",
       "  <thead>\n",
       "    <tr style=\"text-align: right;\">\n",
       "      <th></th>\n",
       "      <th>age</th>\n",
       "      <th>sex</th>\n",
       "      <th>bmi</th>\n",
       "      <th>children</th>\n",
       "      <th>smoker</th>\n",
       "      <th>region</th>\n",
       "      <th>charges</th>\n",
       "    </tr>\n",
       "  </thead>\n",
       "  <tbody>\n",
       "    <tr>\n",
       "      <th>0</th>\n",
       "      <td>19</td>\n",
       "      <td>0</td>\n",
       "      <td>27.900</td>\n",
       "      <td>0</td>\n",
       "      <td>1</td>\n",
       "      <td>3</td>\n",
       "      <td>16884</td>\n",
       "    </tr>\n",
       "    <tr>\n",
       "      <th>1</th>\n",
       "      <td>18</td>\n",
       "      <td>1</td>\n",
       "      <td>33.770</td>\n",
       "      <td>1</td>\n",
       "      <td>0</td>\n",
       "      <td>2</td>\n",
       "      <td>1725</td>\n",
       "    </tr>\n",
       "    <tr>\n",
       "      <th>2</th>\n",
       "      <td>28</td>\n",
       "      <td>1</td>\n",
       "      <td>33.000</td>\n",
       "      <td>3</td>\n",
       "      <td>0</td>\n",
       "      <td>2</td>\n",
       "      <td>4449</td>\n",
       "    </tr>\n",
       "    <tr>\n",
       "      <th>3</th>\n",
       "      <td>33</td>\n",
       "      <td>1</td>\n",
       "      <td>22.705</td>\n",
       "      <td>0</td>\n",
       "      <td>0</td>\n",
       "      <td>1</td>\n",
       "      <td>21984</td>\n",
       "    </tr>\n",
       "    <tr>\n",
       "      <th>4</th>\n",
       "      <td>32</td>\n",
       "      <td>1</td>\n",
       "      <td>28.880</td>\n",
       "      <td>0</td>\n",
       "      <td>0</td>\n",
       "      <td>1</td>\n",
       "      <td>3866</td>\n",
       "    </tr>\n",
       "  </tbody>\n",
       "</table>\n",
       "</div>"
      ],
      "text/plain": [
       "   age  sex     bmi  children  smoker  region  charges\n",
       "0   19    0  27.900         0       1       3    16884\n",
       "1   18    1  33.770         1       0       2     1725\n",
       "2   28    1  33.000         3       0       2     4449\n",
       "3   33    1  22.705         0       0       1    21984\n",
       "4   32    1  28.880         0       0       1     3866"
      ]
     },
     "execution_count": 181,
     "metadata": {},
     "output_type": "execute_result"
    }
   ],
   "source": [
    "enc = LabelEncoder()\n",
    "df['sex'] = enc.fit_transform(df['sex'])\n",
    "df.head()"
   ]
  },
  {
   "cell_type": "code",
   "execution_count": 182,
   "metadata": {},
   "outputs": [
    {
     "data": {
      "text/html": [
       "<div>\n",
       "<style scoped>\n",
       "    .dataframe tbody tr th:only-of-type {\n",
       "        vertical-align: middle;\n",
       "    }\n",
       "\n",
       "    .dataframe tbody tr th {\n",
       "        vertical-align: top;\n",
       "    }\n",
       "\n",
       "    .dataframe thead th {\n",
       "        text-align: right;\n",
       "    }\n",
       "</style>\n",
       "<table border=\"1\" class=\"dataframe\">\n",
       "  <thead>\n",
       "    <tr style=\"text-align: right;\">\n",
       "      <th></th>\n",
       "      <th>age</th>\n",
       "      <th>sex</th>\n",
       "      <th>bmi</th>\n",
       "      <th>children</th>\n",
       "      <th>smoker</th>\n",
       "      <th>region</th>\n",
       "      <th>charges</th>\n",
       "    </tr>\n",
       "  </thead>\n",
       "  <tbody>\n",
       "    <tr>\n",
       "      <th>0</th>\n",
       "      <td>19</td>\n",
       "      <td>0</td>\n",
       "      <td>27.900</td>\n",
       "      <td>0</td>\n",
       "      <td>1</td>\n",
       "      <td>3</td>\n",
       "      <td>16884</td>\n",
       "    </tr>\n",
       "    <tr>\n",
       "      <th>1</th>\n",
       "      <td>18</td>\n",
       "      <td>1</td>\n",
       "      <td>33.770</td>\n",
       "      <td>1</td>\n",
       "      <td>0</td>\n",
       "      <td>2</td>\n",
       "      <td>1725</td>\n",
       "    </tr>\n",
       "    <tr>\n",
       "      <th>2</th>\n",
       "      <td>28</td>\n",
       "      <td>1</td>\n",
       "      <td>33.000</td>\n",
       "      <td>3</td>\n",
       "      <td>0</td>\n",
       "      <td>2</td>\n",
       "      <td>4449</td>\n",
       "    </tr>\n",
       "    <tr>\n",
       "      <th>3</th>\n",
       "      <td>33</td>\n",
       "      <td>1</td>\n",
       "      <td>22.705</td>\n",
       "      <td>0</td>\n",
       "      <td>0</td>\n",
       "      <td>1</td>\n",
       "      <td>21984</td>\n",
       "    </tr>\n",
       "    <tr>\n",
       "      <th>4</th>\n",
       "      <td>32</td>\n",
       "      <td>1</td>\n",
       "      <td>28.880</td>\n",
       "      <td>0</td>\n",
       "      <td>0</td>\n",
       "      <td>1</td>\n",
       "      <td>3866</td>\n",
       "    </tr>\n",
       "  </tbody>\n",
       "</table>\n",
       "</div>"
      ],
      "text/plain": [
       "   age  sex     bmi  children  smoker  region  charges\n",
       "0   19    0  27.900         0       1       3    16884\n",
       "1   18    1  33.770         1       0       2     1725\n",
       "2   28    1  33.000         3       0       2     4449\n",
       "3   33    1  22.705         0       0       1    21984\n",
       "4   32    1  28.880         0       0       1     3866"
      ]
     },
     "execution_count": 182,
     "metadata": {},
     "output_type": "execute_result"
    }
   ],
   "source": [
    "enc = LabelEncoder()\n",
    "df['smoker'] = enc.fit_transform(df['smoker'])\n",
    "df.head()"
   ]
  },
  {
   "cell_type": "code",
   "execution_count": 183,
   "metadata": {},
   "outputs": [
    {
     "data": {
      "text/html": [
       "<div>\n",
       "<style scoped>\n",
       "    .dataframe tbody tr th:only-of-type {\n",
       "        vertical-align: middle;\n",
       "    }\n",
       "\n",
       "    .dataframe tbody tr th {\n",
       "        vertical-align: top;\n",
       "    }\n",
       "\n",
       "    .dataframe thead th {\n",
       "        text-align: right;\n",
       "    }\n",
       "</style>\n",
       "<table border=\"1\" class=\"dataframe\">\n",
       "  <thead>\n",
       "    <tr style=\"text-align: right;\">\n",
       "      <th></th>\n",
       "      <th>age</th>\n",
       "      <th>sex</th>\n",
       "      <th>bmi</th>\n",
       "      <th>children</th>\n",
       "      <th>smoker</th>\n",
       "      <th>region</th>\n",
       "      <th>charges</th>\n",
       "    </tr>\n",
       "  </thead>\n",
       "  <tbody>\n",
       "    <tr>\n",
       "      <th>0</th>\n",
       "      <td>19</td>\n",
       "      <td>0</td>\n",
       "      <td>27.900</td>\n",
       "      <td>0</td>\n",
       "      <td>1</td>\n",
       "      <td>3</td>\n",
       "      <td>16884</td>\n",
       "    </tr>\n",
       "    <tr>\n",
       "      <th>1</th>\n",
       "      <td>18</td>\n",
       "      <td>1</td>\n",
       "      <td>33.770</td>\n",
       "      <td>1</td>\n",
       "      <td>0</td>\n",
       "      <td>2</td>\n",
       "      <td>1725</td>\n",
       "    </tr>\n",
       "    <tr>\n",
       "      <th>2</th>\n",
       "      <td>28</td>\n",
       "      <td>1</td>\n",
       "      <td>33.000</td>\n",
       "      <td>3</td>\n",
       "      <td>0</td>\n",
       "      <td>2</td>\n",
       "      <td>4449</td>\n",
       "    </tr>\n",
       "    <tr>\n",
       "      <th>3</th>\n",
       "      <td>33</td>\n",
       "      <td>1</td>\n",
       "      <td>22.705</td>\n",
       "      <td>0</td>\n",
       "      <td>0</td>\n",
       "      <td>1</td>\n",
       "      <td>21984</td>\n",
       "    </tr>\n",
       "    <tr>\n",
       "      <th>4</th>\n",
       "      <td>32</td>\n",
       "      <td>1</td>\n",
       "      <td>28.880</td>\n",
       "      <td>0</td>\n",
       "      <td>0</td>\n",
       "      <td>1</td>\n",
       "      <td>3866</td>\n",
       "    </tr>\n",
       "  </tbody>\n",
       "</table>\n",
       "</div>"
      ],
      "text/plain": [
       "   age  sex     bmi  children  smoker  region  charges\n",
       "0   19    0  27.900         0       1       3    16884\n",
       "1   18    1  33.770         1       0       2     1725\n",
       "2   28    1  33.000         3       0       2     4449\n",
       "3   33    1  22.705         0       0       1    21984\n",
       "4   32    1  28.880         0       0       1     3866"
      ]
     },
     "execution_count": 183,
     "metadata": {},
     "output_type": "execute_result"
    }
   ],
   "source": [
    "enc = LabelEncoder()\n",
    "df['region'] = enc.fit_transform(df['region'])\n",
    "df.head()"
   ]
  },
  {
   "cell_type": "code",
   "execution_count": 184,
   "metadata": {},
   "outputs": [],
   "source": [
    "X = df.drop('charges', axis = 1)\n",
    "Y = df['charges']"
   ]
  },
  {
   "cell_type": "code",
   "execution_count": 185,
   "metadata": {},
   "outputs": [],
   "source": [
    "X_train, X_test, Y_train, Y_test = train_test_split(X,Y, test_size = 0.3, random_state = 1)"
   ]
  },
  {
   "cell_type": "markdown",
   "metadata": {},
   "source": [
    "# Linear Regression"
   ]
  },
  {
   "cell_type": "code",
   "execution_count": 186,
   "metadata": {},
   "outputs": [
    {
     "data": {
      "text/plain": [
       "LinearRegression()"
      ]
     },
     "execution_count": 186,
     "metadata": {},
     "output_type": "execute_result"
    }
   ],
   "source": [
    "Model_A = LinearRegression()\n",
    "Model_A.fit(X_train,Y_train)"
   ]
  },
  {
   "cell_type": "code",
   "execution_count": 187,
   "metadata": {},
   "outputs": [
    {
     "data": {
      "text/plain": [
       "array([ 4.50002329e+03,  1.28189908e+04,  1.23972430e+04,  1.34298827e+04,\n",
       "        5.31257061e+02,  3.22638349e+04,  1.30758123e+04,  1.22343270e+04,\n",
       "        3.82884043e+03,  3.01559841e+04,  1.13192872e+04,  1.72080169e+04,\n",
       "        8.91786552e+03,  8.22831030e+03,  3.58119299e+03,  1.01914024e+04,\n",
       "        3.97083902e+03,  6.75470261e+03,  1.52136632e+04,  1.42493061e+04,\n",
       "        1.24179696e+04,  3.34492832e+04,  9.12365195e+03,  8.85329647e+03,\n",
       "        3.13355885e+03,  8.14370567e+03,  9.33870727e+03,  1.10787940e+04,\n",
       "        7.54481493e+03,  4.40488882e+03,  1.39108007e+04,  5.64837843e+03,\n",
       "        3.46822872e+04,  2.74017556e+04,  3.38100230e+04,  9.52510904e+03,\n",
       "        3.06082782e+04,  2.67062069e+04,  1.54108259e+04,  3.41393440e+04,\n",
       "        6.63419896e+03,  1.39732230e+04,  1.08966749e+04,  1.47976063e+04,\n",
       "        4.09688404e+03,  1.29618132e+04,  4.71551287e+03,  2.92766775e+04,\n",
       "        7.31736132e+03,  1.39525176e+04,  1.35185995e+04,  1.20793579e+04,\n",
       "        2.00213983e+03,  8.64321206e+03,  2.63762566e+04,  1.04912058e+04,\n",
       "        3.46730887e+04,  1.43463819e+04,  3.23298709e+03,  6.29692132e+03,\n",
       "        6.98419654e+03,  1.47775690e+04,  2.76388171e+04,  3.44437235e+03,\n",
       "        1.56079075e+04,  1.11416275e+04,  1.09540993e+04,  1.07402126e+04,\n",
       "        1.67466582e+03,  2.56538560e+04,  3.75891515e+04,  3.33332247e+04,\n",
       "        2.04562746e+03,  1.12030268e+04,  1.35986559e+04,  3.50856627e+04,\n",
       "        3.27416044e+03,  4.30068922e+03,  1.02358825e+04,  1.03541112e+04,\n",
       "        3.18017017e+01,  1.39302169e+04,  1.03080619e+04,  3.15187577e+03,\n",
       "        3.36376060e+04,  3.36101081e+04,  7.05719202e+03,  3.81599230e+04,\n",
       "        1.26756559e+04,  1.02497057e+04,  3.04845226e+04,  3.40645689e+04,\n",
       "        1.48083064e+04,  1.10820981e+04,  4.10604871e+02,  1.08398389e+04,\n",
       "        9.48484297e+03,  1.51220270e+04,  1.49158789e+04,  6.01828869e+03,\n",
       "        1.36007914e+04,  2.64490047e+04,  2.82126502e+04,  2.76763180e+04,\n",
       "        3.58848313e+04,  2.75488748e+04,  7.16249959e+02,  9.08346410e+03,\n",
       "        5.11904240e+03,  1.23730726e+04,  5.77296059e+03,  5.15501285e+03,\n",
       "        1.22247470e+03,  1.84834748e+04,  3.34589956e+03,  1.70119152e+03,\n",
       "        1.13250311e+04,  1.25683417e+04,  1.15819475e+04,  3.89067857e+03,\n",
       "        8.81791027e+03,  1.35669798e+04,  8.07311331e+03,  6.48364857e+03,\n",
       "        3.70747731e+04,  1.18406024e+04,  1.20142408e+04,  2.97982591e+04,\n",
       "        3.65414688e+04,  1.13667612e+04,  2.88093359e+04, -4.16178046e+02,\n",
       "        8.15793824e+03,  3.21771552e+04,  8.16119638e+03, -5.81475701e+02,\n",
       "        1.34275172e+03,  5.08092129e+03,  7.65972371e+03,  1.25276898e+04,\n",
       "        1.47395401e+04,  8.88742789e+03,  2.94731664e+04,  1.59488769e+04,\n",
       "        1.44639396e+04,  1.10818422e+04,  2.33108399e+03,  9.81857085e+03,\n",
       "        4.17638657e+03,  6.17402334e+03,  1.16376499e+04,  5.49466109e+03,\n",
       "        1.44366616e+04,  1.35364168e+04,  1.29563176e+04,  6.93101492e+03,\n",
       "        1.22165968e+04,  1.07732726e+04,  1.01776640e+04,  4.51396525e+03,\n",
       "        6.04046539e+03,  4.07284106e+04,  1.32528781e+04,  4.22922233e+03,\n",
       "        8.36185761e+03,  5.10363155e+03,  3.27595339e+04,  1.10363374e+04,\n",
       "        1.08372676e+04,  6.92061097e+03,  6.31145308e+03,  6.80999324e+03,\n",
       "        3.32612566e+04,  3.51530483e+04,  2.34814317e+03,  7.62604835e+03,\n",
       "        5.11865438e+03,  1.52479841e+04,  1.59575604e+03,  1.16720822e+04,\n",
       "        1.32925750e+04,  1.14203217e+04,  1.05717087e+04,  1.30849163e+04,\n",
       "        2.52607006e+03,  2.82237312e+04,  2.85155605e+03,  1.49731700e+04,\n",
       "        6.34677169e+03,  1.02590088e+04,  1.47711121e+04,  3.92345043e+04,\n",
       "        2.09994398e+03,  1.64459656e+03,  5.19333860e+03,  7.48747264e+03,\n",
       "        8.10097172e+03,  4.66087853e+03,  1.04567665e+04,  9.25474168e+03,\n",
       "        9.66258992e+03,  1.08914295e+04,  1.00580040e+04,  9.47493800e+03,\n",
       "        8.00933941e+03,  1.42513315e+03,  1.00142116e+04,  7.65423363e+03,\n",
       "        6.63428446e+03,  1.15641999e+04,  5.46782166e+03,  3.34277877e+04,\n",
       "        6.88381427e+03,  6.19120647e+03,  7.73952048e+03,  3.88995430e+04,\n",
       "        1.18213171e+04,  2.88904029e+04,  3.33747378e+03,  3.32271478e+04,\n",
       "        3.78821439e+03,  3.21684745e+04,  1.36896628e+04,  2.62806958e+03,\n",
       "        2.06441379e+03,  1.28441689e+03,  6.22494137e+03,  4.47857905e+03,\n",
       "        2.59000803e+04,  1.59752585e+04,  5.38702851e+03,  1.31660666e+04,\n",
       "        3.93305199e+04,  4.70435353e+03,  1.25231742e+04,  1.11585805e+04,\n",
       "        2.80518956e+04,  2.93642213e+03,  1.32110176e+04,  6.07015107e+03,\n",
       "        1.53883784e+04,  6.22037253e+03,  1.67147542e+04,  4.32814614e+03,\n",
       "        1.24582931e+04,  3.46902468e+04,  1.08665439e+04,  1.04386388e+04,\n",
       "        5.28254147e+03,  1.65987132e+04,  1.43072726e+04,  5.45955663e+03,\n",
       "        1.14211423e+04,  1.26085488e+04,  4.65917891e+03,  7.20924121e+03,\n",
       "        2.79792836e+04,  3.24453448e+04, -2.80987950e+02,  4.03566172e+04,\n",
       "        9.65897926e+03,  7.73433673e+03,  1.09607761e+04,  3.35806187e+04,\n",
       "        3.62118785e+04,  3.70684883e+04,  5.11191733e+03,  6.15727903e+03,\n",
       "        1.05279034e+04,  8.31533879e+03,  4.48643577e+03,  1.14811160e+04,\n",
       "        1.01912787e+04,  9.89221024e+03,  9.47586478e+03,  3.99725849e+04,\n",
       "        8.25610566e+03,  4.74153550e+03,  2.65402562e+04,  2.81751577e+04,\n",
       "        1.35302122e+03,  1.19653387e+04,  6.17725043e+03,  4.11136695e+03,\n",
       "        1.05096108e+04,  1.14199697e+04,  1.52107703e+04,  1.14683979e+04,\n",
       "        4.00168111e+03,  7.58547012e+03,  1.16296239e+04,  1.27705614e+04,\n",
       "        1.70952429e+04,  1.09684332e+04,  5.89779469e+03,  3.21409287e+04,\n",
       "        1.00572784e+04,  6.40634717e+03,  2.79379359e+03,  7.55904181e+03,\n",
       "        7.02600640e+03,  6.98721145e+03,  6.23802163e+03,  8.98901472e+03,\n",
       "        6.92315754e+03,  3.11255248e+04,  6.00072054e+03,  4.57999420e+03,\n",
       "        2.22332882e+03,  4.38877263e+03,  8.53962485e+03,  2.91795349e+03,\n",
       "        2.75612201e+04,  6.97683643e+03,  6.62284414e+03,  1.48839571e+04,\n",
       "        9.99546616e+03,  1.14115950e+04,  1.40583349e+04,  1.53036927e+04,\n",
       "        1.47923489e+04,  2.35403901e+04,  5.45555130e+03,  9.76569790e+03,\n",
       "        1.04540288e+04,  9.86549475e+03,  1.31253236e+04,  6.83727915e+03,\n",
       "        3.67138146e+03,  3.31301518e+04,  1.42928807e+04,  1.44788439e+04,\n",
       "        1.19473705e+04,  3.47014485e+03,  9.99111886e+03,  3.33381198e+03,\n",
       "        2.92865361e+03,  1.12260522e+04,  1.57388555e+04,  1.32788390e+04,\n",
       "        3.54951138e+04,  3.69866244e+03,  3.41943923e+04,  2.58663045e+03,\n",
       "        9.05021890e+03,  2.97454178e+04,  5.69389843e+03,  2.03549685e+03,\n",
       "        7.35799649e+03,  1.37186457e+04,  6.12086159e+02,  6.32089968e+03,\n",
       "        9.18733637e+03,  3.79359773e+04,  2.58889363e+04,  9.72777474e+03,\n",
       "        1.19301983e+04,  3.77731501e+04,  1.49933449e+04,  3.48713385e+03,\n",
       "        5.61567929e+03,  9.13974046e+03,  1.65799262e+04,  9.96822536e+03,\n",
       "        7.69870995e+03,  1.03942756e+04,  3.08036136e+04,  3.18041458e+04,\n",
       "        6.75803139e+03,  3.20218463e+04,  3.42795344e+04,  1.46348951e+04,\n",
       "        9.10221337e+03,  1.03304989e+04,  5.46584821e+03,  1.20967309e+04,\n",
       "        1.47330832e+04,  4.23238515e+03,  1.32564275e+04,  1.29987505e+04,\n",
       "        1.03294045e+04,  2.80069723e+04,  2.70815028e+04,  3.31131037e+04,\n",
       "        1.25248131e+04,  1.48911226e+04,  1.69445075e+04,  4.29577659e+03,\n",
       "        9.70215362e+03,  9.19361560e+03,  3.21643404e+04,  3.89680663e+04,\n",
       "        1.12865854e+04,  3.58117712e+04,  2.77079699e+04,  3.22997311e+04,\n",
       "        9.08108160e+03,  1.61143522e+04,  3.69046330e+03,  3.21689858e+03,\n",
       "        2.73100530e+04,  9.39200769e+03])"
      ]
     },
     "execution_count": 187,
     "metadata": {},
     "output_type": "execute_result"
    }
   ],
   "source": [
    "pred = Model_A.predict(X_test)\n",
    "pred"
   ]
  },
  {
   "cell_type": "code",
   "execution_count": 188,
   "metadata": {},
   "outputs": [
    {
     "data": {
      "text/plain": [
       "0.7403660708714219"
      ]
     },
     "execution_count": 188,
     "metadata": {},
     "output_type": "execute_result"
    }
   ],
   "source": [
    "Model_A.score(X_test, Y_test)"
   ]
  },
  {
   "cell_type": "markdown",
   "metadata": {},
   "source": [
    "# Decision Tree Regressor"
   ]
  },
  {
   "cell_type": "code",
   "execution_count": 190,
   "metadata": {},
   "outputs": [
    {
     "data": {
      "text/plain": [
       "DecisionTreeClassifier()"
      ]
     },
     "execution_count": 190,
     "metadata": {},
     "output_type": "execute_result"
    }
   ],
   "source": [
    "Model_B = DecisionTreeClassifier()\n",
    "Model_B.fit(X_train,Y_train)"
   ]
  },
  {
   "cell_type": "code",
   "execution_count": 191,
   "metadata": {},
   "outputs": [
    {
     "data": {
      "text/plain": [
       "array([ 1639, 10965,  9144, 10977,  3077, 21472,  8125, 11658,  3268,\n",
       "       19719, 13451, 11163,  6123,  8017,  1137,  7789,  4571,  6311,\n",
       "       36910, 13041,  9361,  4753, 21677,  8457, 21344,  6858,  8302,\n",
       "        8280,  5972,  3268, 12044, 19199, 10197, 17352, 40974,  8442,\n",
       "       36197,  3077, 44423, 19594, 36085, 11362, 10702, 10807,  4934,\n",
       "       13770,  1532, 36950,  9182, 14001, 12950, 11881,  2395,  8615,\n",
       "       33732,  5836,  8522, 12638,  4391,  1146,  3353, 13143,  2639,\n",
       "        2850, 13143,  8964, 23807, 12629,  2201, 15006, 25382,  6113,\n",
       "        1744, 23887, 13390, 39556,  2639,  2866, 11837,  9910,  2585,\n",
       "       11881, 23887,  1986,  7173, 38511,  8017, 48885, 10043,  6571,\n",
       "        5267, 11729, 12928,  9249,  2117, 27346,  9872, 12643, 12231,\n",
       "       20296, 10965,  2974, 19933,  1263, 26926, 34166,  2196,  6849,\n",
       "        1629, 11840,  4185,  4189,  1705, 48970,  2639,  1256,  6059,\n",
       "       14256,  6748,  2257,  9625, 10141,  5974,  9500, 47496,  8978,\n",
       "       13430, 19719,  7162, 42560, 32548,  1607,  7133,  4889,  7742,\n",
       "        1242,  2221, 14133,  9182,  9704, 13635,  5245, 19719, 13887,\n",
       "       13224, 10601,  1720, 15828,  1725,  5989, 42560,  3537, 10848,\n",
       "       13430,  8978,  5966, 25517, 25517,  9447,  1824,  3935, 28868,\n",
       "       27000, 20277,  6360,  1532,  5584,  9377, 11837,  4992,  5972,\n",
       "        3021, 27218, 26926, 21595,  7133,  2438, 14001, 16115,  5836,\n",
       "       12146, 14449,  9583,  7443,  2457, 18310,  2156,  8556,  9500,\n",
       "       39597, 30063, 42856, 20420,  2201,  8965,  9182,  6184,  2138,\n",
       "       10600,  8232,  6082,  6781, 11150,  6082,  6455,  1621,  6082,\n",
       "        8017,  1917, 11837,  3385, 24667,  3597, 38511, 38711, 47305,\n",
       "       10601, 17663,  1135, 37829,  2257,  8442, 11881, 15006, 22493,\n",
       "        2483,  3866, 13126, 16884, 13887, 26018, 14001, 42856,  6877,\n",
       "       29186, 10601, 16138,  1639,  8334,  5478,  8068,  1532, 14474,\n",
       "        1986, 10601, 48549,  7147,  8547,  3227, 12979, 12495,  6746,\n",
       "       12523, 11264,  2727,  2254, 33732, 21659,  2803, 14474,  8516,\n",
       "       38245,  8823, 41949, 48885, 24915,  2138,  4992, 11305,  9377,\n",
       "        1137, 13451,  7147, 14478,  6600, 36910,  4667,  7228, 18838,\n",
       "        6877,  1256,  9704,  5729,  2566,  9411, 10806, 36910,  8534,\n",
       "        2464,  5488, 11842, 13112, 13405, 24476,  3046, 21880, 19964,\n",
       "        4618, 25081,  8252,  5488,  9788,  3385,  6496,  4433, 39774,\n",
       "        4571, 20177,  1712, 19023,  5836,  1967,  5855,  2473,  4185,\n",
       "       13393, 13415,  9288, 13041,  9249,  9866,  1621,  3392, 13725,\n",
       "       11454,  4266, 14001,  5415,  5209, 24535, 13224, 11363,  9866,\n",
       "        2254,  8302,  1972,  3077,  5438, 12928, 13770, 24915,  2138,\n",
       "       41949,  3561,  8017, 38511,  4462,  2221, 38511, 44423,  2775,\n",
       "        2217,  9549, 48885,  2221,  6600,  9283, 28101, 10977,  2534,\n",
       "        4040,  9566, 41661,  8823,  5003,  7633, 40904, 35069,  6123,\n",
       "       23568,  9174,  9140,  6082,  9541,  6455, 23807, 15230,  2254,\n",
       "        5124, 11944,  6082, 37079,  2128, 38245,  8964, 10579, 48173,\n",
       "        3021,  5836, 12629,  3935, 28868,  8334, 24915,  1263, 21880,\n",
       "        8604, 20709,  1875,  2257, 18310,  9872])"
      ]
     },
     "execution_count": 191,
     "metadata": {},
     "output_type": "execute_result"
    }
   ],
   "source": [
    "pred = Model_B.predict(X_test)\n",
    "pred"
   ]
  },
  {
   "cell_type": "code",
   "execution_count": 192,
   "metadata": {},
   "outputs": [
    {
     "data": {
      "text/plain": [
       "0.024875621890547265"
      ]
     },
     "execution_count": 192,
     "metadata": {},
     "output_type": "execute_result"
    }
   ],
   "source": [
    "Model_B.score(X_test, Y_test)"
   ]
  },
  {
   "cell_type": "markdown",
   "metadata": {},
   "source": [
    "# Random Forest Regressor"
   ]
  },
  {
   "cell_type": "code",
   "execution_count": 194,
   "metadata": {},
   "outputs": [
    {
     "data": {
      "text/plain": [
       "RandomForestClassifier()"
      ]
     },
     "execution_count": 194,
     "metadata": {},
     "output_type": "execute_result"
    }
   ],
   "source": [
    "Model_C =RandomForestClassifier()\n",
    "Model_C.fit(X_train,Y_train)"
   ]
  },
  {
   "cell_type": "code",
   "execution_count": 195,
   "metadata": {},
   "outputs": [
    {
     "data": {
      "text/plain": [
       "array([ 1639, 10976,  8457, 10702,  1964, 20745,  8978, 11658,  2721,\n",
       "       16577, 24513, 11411,  5584,  7337,  1137,  8027,  3866,  7151,\n",
       "       14474, 13470, 10435,  5138,  7421,  8782, 21344,  6393,  6746,\n",
       "        9283,  6311,  3857,  9872,  3847, 21659, 17352, 24667, 24476,\n",
       "       36197, 21472, 24227, 43943,  5836, 10976, 10702, 21797,  4934,\n",
       "       12323,  1725, 19350,  5458, 13430, 27346,  8823,  2045,  7151,\n",
       "       15518,  5400, 30942, 12638,  4564,  1146,  3171, 13143, 19521,\n",
       "        2850, 13981, 10461,  9620, 12629,  2719, 16115, 11289, 37701,\n",
       "        1744, 12475, 12129, 39047,  2639,  2497, 11837,  8017,  2585,\n",
       "       12643, 11305,  1972, 39047, 37484,  7623,  4753, 10043,  7209,\n",
       "       21348, 21659, 11987,  7633,  1627, 27346,  7624, 11881, 12231,\n",
       "        7133, 10976, 18310, 19199, 16297, 26926, 33907,  2150,  6849,\n",
       "        2201, 11658,  3972,  3392,  1627, 30063,  2639,  1256,  6653,\n",
       "       14256,  5428,  2257,  8269, 10407,  5478,  6250, 44260,  7196,\n",
       "       13430, 17663, 42969,  7160, 36149,  1242,  9715, 39871, 21232,\n",
       "        1728,  1627, 14133,  5458, 12797, 13635,  5584, 17663, 13887,\n",
       "       13224, 11735,  1720,  7418,  1725,  7201,  7147,  4058, 10848,\n",
       "       11512,  5438,  8782,  8964,  9617,  9447,  1682,  3935, 14418,\n",
       "       10807,  3659, 10115,  1532, 39871,  8703, 12233,  4347,  6311,\n",
       "        3021, 35069, 21348,  4134,  9447,  1980, 13430,  4544,  4753,\n",
       "       10072, 14449,  7421, 28476,  3176, 19350,  2156,  9549,  7222,\n",
       "        6799, 12928, 44260,  2302,  2719,  9193,  8269,  6184,  2138,\n",
       "       30284,  8232,  7147,  6571, 11741,  5584,  6203,  1621,  8334,\n",
       "        6770, 12890, 11842,  4347, 23887,  4846,  3577,  6082, 47305,\n",
       "       10072, 18223,  1135, 38415,  2203, 19515, 12643,  4005,  1639,\n",
       "        1972,  5272, 13126, 16884, 13887, 26018, 14001, 44260,  7228,\n",
       "       29186,  9850, 21259,  1639,  6610,  9377,  9058,  1633, 15230,\n",
       "        1824,  9140, 21259,  7160,  8556,  3227, 14410,  8023,  4237,\n",
       "       11743, 11987,  2727, 17878, 33732, 20296,  1627, 13635,  8516,\n",
       "        6389,  7633, 44585, 55135, 42560,  2138,  7325, 11082, 10791,\n",
       "        1137, 28923,  8062,  9620,  7256, 43578,  4438,  4718, 17748,\n",
       "       15006,  1256,  8516,  5257,  2643, 12105, 10806, 36910, 10564,\n",
       "       13126,  4237,  9625, 13112, 13405, 24476,  2211, 21348,  7325,\n",
       "        6113,  2731,  9447,  4747, 11013,  4347,  6238,  5327, 22462,\n",
       "        5267,  3056,  1135,  6877,  5836,  1639, 17179,  2473,  7789,\n",
       "       13393, 14449,  9288, 13451, 11015,  9541,  1694,  3392,  7639,\n",
       "       11454,  4266, 14001,  7731, 27375, 40974, 11512, 21797, 10923,\n",
       "        2254,  4438,  3353, 23241,  5438, 11987, 14410, 62592,  2128,\n",
       "       39871,  3847,  8516, 37484,  4243,  2719,  3056,  9634, 21595,\n",
       "        2217,  8211, 63770, 17560,  6796,  8280, 28950,  4753,  2045,\n",
       "       23288,  9566,  9541,  8823,  5246,  4433, 44585, 21259,  6198,\n",
       "       19515, 18310, 10226,  2498, 11657, 11013, 10600, 15230,  2731,\n",
       "        8944, 10072,  7265, 16577, 17748, 24915,  5377, 12485, 11576,\n",
       "        4571,  3766,  9182, 19350, 46130,  8334, 39871, 16297, 20296,\n",
       "        9715, 20709,  1875,  7323, 19350,  7626])"
      ]
     },
     "execution_count": 195,
     "metadata": {},
     "output_type": "execute_result"
    }
   ],
   "source": [
    "pred = Model_C.predict(X_test)\n",
    "pred"
   ]
  },
  {
   "cell_type": "code",
   "execution_count": 197,
   "metadata": {},
   "outputs": [
    {
     "data": {
      "text/plain": [
       "0.022388059701492536"
      ]
     },
     "execution_count": 197,
     "metadata": {},
     "output_type": "execute_result"
    }
   ],
   "source": [
    "Model_C.score(X_test, Y_test)"
   ]
  },
  {
   "cell_type": "code",
   "execution_count": null,
   "metadata": {},
   "outputs": [],
   "source": []
  }
 ],
 "metadata": {
  "kernelspec": {
   "display_name": "Python 3",
   "language": "python",
   "name": "python3"
  },
  "language_info": {
   "codemirror_mode": {
    "name": "ipython",
    "version": 3
   },
   "file_extension": ".py",
   "mimetype": "text/x-python",
   "name": "python",
   "nbconvert_exporter": "python",
   "pygments_lexer": "ipython3",
   "version": "3.8.3"
  }
 },
 "nbformat": 4,
 "nbformat_minor": 4
}
